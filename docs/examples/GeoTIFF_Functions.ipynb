{
  "cells": [
    {
      "attachments": {},
      "cell_type": "markdown",
      "metadata": {
        "id": "8R8gyrnT_5UL"
      },
      "source": [
        "[![Open In Colab](https://colab.research.google.com/assets/colab-badge.svg)](https://colab.research.google.com/github/bassneel/bassmap/blob/main/docs/examples/GeoTIFF_Functions.ipynb)"
      ]
    },
    {
      "attachments": {},
      "cell_type": "markdown",
      "metadata": {
        "id": "w8NKaTHWu3Ce"
      },
      "source": [
        "# **Bassmap Landsat Tools**\n",
        "The following tools can be used to easily convert individual Landsat 8 bands into multispectral composites. In order to prevent issues with temporary storage and GDAL installation, it's recommended to use these functions in ***Google Colab***"
      ]
    },
    {
      "attachments": {},
      "cell_type": "markdown",
      "metadata": {
        "id": "qgxLt7RV_t4y"
      },
      "source": [
        "## **Install Bassmap**\n",
        "Install Bassmap package to your ***Google Colab*** note. *Make sure to install GDAL to your notebook or environment with*:"
      ]
    },
    {
      "attachments": {},
      "cell_type": "markdown",
      "metadata": {
        "id": "a46CfH6Bi5MP"
      },
      "source": [
        "*Google Colab:* `!pip install gdal`"
      ]
    },
    {
      "cell_type": "code",
      "execution_count": 1,
      "metadata": {
        "colab": {
          "base_uri": "https://localhost:8080/"
        },
        "id": "Cxj8ytoX63Jc",
        "outputId": "c9165956-fb2f-47e0-ff71-875c21d5d1a7"
      },
      "outputs": [
        {
          "name": "stdout",
          "output_type": "stream",
          "text": [
            "Looking in indexes: https://pypi.org/simple, https://us-python.pkg.dev/colab-wheels/public/simple/\n",
            "Requirement already satisfied: bassmap==0.0.18 in /usr/local/lib/python3.10/dist-packages (0.0.18)\n",
            "Requirement already satisfied: leafmap in /usr/local/lib/python3.10/dist-packages (from bassmap==0.0.18) (0.20.1)\n",
            "Requirement already satisfied: pycrs in /usr/local/lib/python3.10/dist-packages (from bassmap==0.0.18) (1.0.2)\n",
            "Requirement already satisfied: httpx in /usr/local/lib/python3.10/dist-packages (from bassmap==0.0.18) (0.24.0)\n",
            "Requirement already satisfied: requests in /usr/local/lib/python3.10/dist-packages (from bassmap==0.0.18) (2.27.1)\n",
            "Requirement already satisfied: geopandas in /usr/local/lib/python3.10/dist-packages (from bassmap==0.0.18) (0.13.0)\n",
            "Requirement already satisfied: ipyleaflet in /usr/local/lib/python3.10/dist-packages (from bassmap==0.0.18) (0.17.2)\n",
            "Requirement already satisfied: rasterio in /usr/local/lib/python3.10/dist-packages (from bassmap==0.0.18) (1.3.6)\n",
            "Requirement already satisfied: numpy in /usr/local/lib/python3.10/dist-packages (from bassmap==0.0.18) (1.22.4)\n",
            "Requirement already satisfied: matplotlib in /usr/local/lib/python3.10/dist-packages (from bassmap==0.0.18) (3.7.1)\n",
            "Requirement already satisfied: folium in /usr/local/lib/python3.10/dist-packages (from bassmap==0.0.18) (0.13.0)\n",
            "Requirement already satisfied: branca>=0.3.0 in /usr/local/lib/python3.10/dist-packages (from folium->bassmap==0.0.18) (0.6.0)\n",
            "Requirement already satisfied: jinja2>=2.9 in /usr/local/lib/python3.10/dist-packages (from folium->bassmap==0.0.18) (3.1.2)\n",
            "Requirement already satisfied: fiona>=1.8.19 in /usr/local/lib/python3.10/dist-packages (from geopandas->bassmap==0.0.18) (1.9.3)\n",
            "Requirement already satisfied: packaging in /usr/local/lib/python3.10/dist-packages (from geopandas->bassmap==0.0.18) (23.1)\n",
            "Requirement already satisfied: pandas>=1.1.0 in /usr/local/lib/python3.10/dist-packages (from geopandas->bassmap==0.0.18) (1.5.3)\n",
            "Requirement already satisfied: pyproj>=3.0.1 in /usr/local/lib/python3.10/dist-packages (from geopandas->bassmap==0.0.18) (3.5.0)\n",
            "Requirement already satisfied: shapely>=1.7.1 in /usr/local/lib/python3.10/dist-packages (from geopandas->bassmap==0.0.18) (2.0.1)\n",
            "Requirement already satisfied: certifi in /usr/local/lib/python3.10/dist-packages (from httpx->bassmap==0.0.18) (2022.12.7)\n",
            "Requirement already satisfied: httpcore<0.18.0,>=0.15.0 in /usr/local/lib/python3.10/dist-packages (from httpx->bassmap==0.0.18) (0.17.0)\n",
            "Requirement already satisfied: idna in /usr/local/lib/python3.10/dist-packages (from httpx->bassmap==0.0.18) (3.4)\n",
            "Requirement already satisfied: sniffio in /usr/local/lib/python3.10/dist-packages (from httpx->bassmap==0.0.18) (1.3.0)\n",
            "Requirement already satisfied: ipywidgets<9,>=7.6.0 in /usr/local/lib/python3.10/dist-packages (from ipyleaflet->bassmap==0.0.18) (7.7.1)\n",
            "Requirement already satisfied: traittypes<3,>=0.2.1 in /usr/local/lib/python3.10/dist-packages (from ipyleaflet->bassmap==0.0.18) (0.2.1)\n",
            "Requirement already satisfied: xyzservices>=2021.8.1 in /usr/local/lib/python3.10/dist-packages (from ipyleaflet->bassmap==0.0.18) (2023.2.0)\n",
            "Requirement already satisfied: bqplot in /usr/local/lib/python3.10/dist-packages (from leafmap->bassmap==0.0.18) (0.12.39)\n",
            "Requirement already satisfied: colour in /usr/local/lib/python3.10/dist-packages (from leafmap->bassmap==0.0.18) (0.1.5)\n",
            "Requirement already satisfied: gdown in /usr/local/lib/python3.10/dist-packages (from leafmap->bassmap==0.0.18) (4.6.6)\n",
            "Requirement already satisfied: geojson in /usr/local/lib/python3.10/dist-packages (from leafmap->bassmap==0.0.18) (3.0.1)\n",
            "Requirement already satisfied: ipyevents in /usr/local/lib/python3.10/dist-packages (from leafmap->bassmap==0.0.18) (2.0.1)\n",
            "Requirement already satisfied: ipyfilechooser>=0.6.0 in /usr/local/lib/python3.10/dist-packages (from leafmap->bassmap==0.0.18) (0.6.0)\n",
            "Requirement already satisfied: pyshp>=2.1.3 in /usr/local/lib/python3.10/dist-packages (from leafmap->bassmap==0.0.18) (2.3.1)\n",
            "Requirement already satisfied: pystac-client in /usr/local/lib/python3.10/dist-packages (from leafmap->bassmap==0.0.18) (0.6.1)\n",
            "Requirement already satisfied: python-box in /usr/local/lib/python3.10/dist-packages (from leafmap->bassmap==0.0.18) (7.0.1)\n",
            "Requirement already satisfied: scooby in /usr/local/lib/python3.10/dist-packages (from leafmap->bassmap==0.0.18) (0.7.2)\n",
            "Requirement already satisfied: whiteboxgui>=0.6.0 in /usr/local/lib/python3.10/dist-packages (from leafmap->bassmap==0.0.18) (2.3.0)\n",
            "Requirement already satisfied: contourpy>=1.0.1 in /usr/local/lib/python3.10/dist-packages (from matplotlib->bassmap==0.0.18) (1.0.7)\n",
            "Requirement already satisfied: cycler>=0.10 in /usr/local/lib/python3.10/dist-packages (from matplotlib->bassmap==0.0.18) (0.11.0)\n",
            "Requirement already satisfied: fonttools>=4.22.0 in /usr/local/lib/python3.10/dist-packages (from matplotlib->bassmap==0.0.18) (4.39.3)\n",
            "Requirement already satisfied: kiwisolver>=1.0.1 in /usr/local/lib/python3.10/dist-packages (from matplotlib->bassmap==0.0.18) (1.4.4)\n",
            "Requirement already satisfied: pillow>=6.2.0 in /usr/local/lib/python3.10/dist-packages (from matplotlib->bassmap==0.0.18) (8.4.0)\n",
            "Requirement already satisfied: pyparsing>=2.3.1 in /usr/local/lib/python3.10/dist-packages (from matplotlib->bassmap==0.0.18) (3.0.9)\n",
            "Requirement already satisfied: python-dateutil>=2.7 in /usr/local/lib/python3.10/dist-packages (from matplotlib->bassmap==0.0.18) (2.8.2)\n",
            "Requirement already satisfied: affine in /usr/local/lib/python3.10/dist-packages (from rasterio->bassmap==0.0.18) (2.4.0)\n",
            "Requirement already satisfied: attrs in /usr/local/lib/python3.10/dist-packages (from rasterio->bassmap==0.0.18) (23.1.0)\n",
            "Requirement already satisfied: click>=4.0 in /usr/local/lib/python3.10/dist-packages (from rasterio->bassmap==0.0.18) (8.1.3)\n",
            "Requirement already satisfied: cligj>=0.5 in /usr/local/lib/python3.10/dist-packages (from rasterio->bassmap==0.0.18) (0.7.2)\n",
            "Requirement already satisfied: snuggs>=1.4.1 in /usr/local/lib/python3.10/dist-packages (from rasterio->bassmap==0.0.18) (1.4.7)\n",
            "Requirement already satisfied: click-plugins in /usr/local/lib/python3.10/dist-packages (from rasterio->bassmap==0.0.18) (1.1.1)\n",
            "Requirement already satisfied: setuptools in /usr/local/lib/python3.10/dist-packages (from rasterio->bassmap==0.0.18) (67.7.2)\n",
            "Requirement already satisfied: urllib3<1.27,>=1.21.1 in /usr/local/lib/python3.10/dist-packages (from requests->bassmap==0.0.18) (1.26.15)\n",
            "Requirement already satisfied: charset-normalizer~=2.0.0 in /usr/local/lib/python3.10/dist-packages (from requests->bassmap==0.0.18) (2.0.12)\n",
            "Requirement already satisfied: munch>=2.3.2 in /usr/local/lib/python3.10/dist-packages (from fiona>=1.8.19->geopandas->bassmap==0.0.18) (2.5.0)\n",
            "Requirement already satisfied: h11<0.15,>=0.13 in /usr/local/lib/python3.10/dist-packages (from httpcore<0.18.0,>=0.15.0->httpx->bassmap==0.0.18) (0.14.0)\n",
            "Requirement already satisfied: anyio<5.0,>=3.0 in /usr/local/lib/python3.10/dist-packages (from httpcore<0.18.0,>=0.15.0->httpx->bassmap==0.0.18) (3.6.2)\n",
            "Requirement already satisfied: ipykernel>=4.5.1 in /usr/local/lib/python3.10/dist-packages (from ipywidgets<9,>=7.6.0->ipyleaflet->bassmap==0.0.18) (5.5.6)\n",
            "Requirement already satisfied: ipython-genutils~=0.2.0 in /usr/local/lib/python3.10/dist-packages (from ipywidgets<9,>=7.6.0->ipyleaflet->bassmap==0.0.18) (0.2.0)\n",
            "Requirement already satisfied: traitlets>=4.3.1 in /usr/local/lib/python3.10/dist-packages (from ipywidgets<9,>=7.6.0->ipyleaflet->bassmap==0.0.18) (5.7.1)\n",
            "Requirement already satisfied: widgetsnbextension~=3.6.0 in /usr/local/lib/python3.10/dist-packages (from ipywidgets<9,>=7.6.0->ipyleaflet->bassmap==0.0.18) (3.6.4)\n",
            "Requirement already satisfied: ipython>=4.0.0 in /usr/local/lib/python3.10/dist-packages (from ipywidgets<9,>=7.6.0->ipyleaflet->bassmap==0.0.18) (7.34.0)\n",
            "Requirement already satisfied: jupyterlab-widgets>=1.0.0 in /usr/local/lib/python3.10/dist-packages (from ipywidgets<9,>=7.6.0->ipyleaflet->bassmap==0.0.18) (3.0.7)\n",
            "Requirement already satisfied: MarkupSafe>=2.0 in /usr/local/lib/python3.10/dist-packages (from jinja2>=2.9->folium->bassmap==0.0.18) (2.1.2)\n",
            "Requirement already satisfied: pytz>=2020.1 in /usr/local/lib/python3.10/dist-packages (from pandas>=1.1.0->geopandas->bassmap==0.0.18) (2022.7.1)\n",
            "Requirement already satisfied: six>=1.5 in /usr/local/lib/python3.10/dist-packages (from python-dateutil>=2.7->matplotlib->bassmap==0.0.18) (1.16.0)\n",
            "Requirement already satisfied: ipytree in /usr/local/lib/python3.10/dist-packages (from whiteboxgui>=0.6.0->leafmap->bassmap==0.0.18) (0.2.2)\n",
            "Requirement already satisfied: whitebox in /usr/local/lib/python3.10/dist-packages (from whiteboxgui>=0.6.0->leafmap->bassmap==0.0.18) (2.3.1)\n",
            "Requirement already satisfied: filelock in /usr/local/lib/python3.10/dist-packages (from gdown->leafmap->bassmap==0.0.18) (3.12.0)\n",
            "Requirement already satisfied: tqdm in /usr/local/lib/python3.10/dist-packages (from gdown->leafmap->bassmap==0.0.18) (4.65.0)\n",
            "Requirement already satisfied: beautifulsoup4 in /usr/local/lib/python3.10/dist-packages (from gdown->leafmap->bassmap==0.0.18) (4.11.2)\n",
            "Requirement already satisfied: pystac>=1.7.0 in /usr/local/lib/python3.10/dist-packages (from pystac-client->leafmap->bassmap==0.0.18) (1.7.3)\n",
            "Requirement already satisfied: jupyter-client in /usr/local/lib/python3.10/dist-packages (from ipykernel>=4.5.1->ipywidgets<9,>=7.6.0->ipyleaflet->bassmap==0.0.18) (6.1.12)\n",
            "Requirement already satisfied: tornado>=4.2 in /usr/local/lib/python3.10/dist-packages (from ipykernel>=4.5.1->ipywidgets<9,>=7.6.0->ipyleaflet->bassmap==0.0.18) (6.2)\n",
            "Requirement already satisfied: jedi>=0.16 in /usr/local/lib/python3.10/dist-packages (from ipython>=4.0.0->ipywidgets<9,>=7.6.0->ipyleaflet->bassmap==0.0.18) (0.18.2)\n",
            "Requirement already satisfied: decorator in /usr/local/lib/python3.10/dist-packages (from ipython>=4.0.0->ipywidgets<9,>=7.6.0->ipyleaflet->bassmap==0.0.18) (4.4.2)\n",
            "Requirement already satisfied: pickleshare in /usr/local/lib/python3.10/dist-packages (from ipython>=4.0.0->ipywidgets<9,>=7.6.0->ipyleaflet->bassmap==0.0.18) (0.7.5)\n",
            "Requirement already satisfied: prompt-toolkit!=3.0.0,!=3.0.1,<3.1.0,>=2.0.0 in /usr/local/lib/python3.10/dist-packages (from ipython>=4.0.0->ipywidgets<9,>=7.6.0->ipyleaflet->bassmap==0.0.18) (3.0.38)\n",
            "Requirement already satisfied: pygments in /usr/local/lib/python3.10/dist-packages (from ipython>=4.0.0->ipywidgets<9,>=7.6.0->ipyleaflet->bassmap==0.0.18) (2.14.0)\n",
            "Requirement already satisfied: backcall in /usr/local/lib/python3.10/dist-packages (from ipython>=4.0.0->ipywidgets<9,>=7.6.0->ipyleaflet->bassmap==0.0.18) (0.2.0)\n",
            "Requirement already satisfied: matplotlib-inline in /usr/local/lib/python3.10/dist-packages (from ipython>=4.0.0->ipywidgets<9,>=7.6.0->ipyleaflet->bassmap==0.0.18) (0.1.6)\n",
            "Requirement already satisfied: pexpect>4.3 in /usr/local/lib/python3.10/dist-packages (from ipython>=4.0.0->ipywidgets<9,>=7.6.0->ipyleaflet->bassmap==0.0.18) (4.8.0)\n",
            "Requirement already satisfied: notebook>=4.4.1 in /usr/local/lib/python3.10/dist-packages (from widgetsnbextension~=3.6.0->ipywidgets<9,>=7.6.0->ipyleaflet->bassmap==0.0.18) (6.4.8)\n",
            "Requirement already satisfied: soupsieve>1.2 in /usr/local/lib/python3.10/dist-packages (from beautifulsoup4->gdown->leafmap->bassmap==0.0.18) (2.4.1)\n",
            "Requirement already satisfied: PySocks!=1.5.7,>=1.5.6 in /usr/local/lib/python3.10/dist-packages (from requests->bassmap==0.0.18) (1.7.1)\n",
            "Requirement already satisfied: parso<0.9.0,>=0.8.0 in /usr/local/lib/python3.10/dist-packages (from jedi>=0.16->ipython>=4.0.0->ipywidgets<9,>=7.6.0->ipyleaflet->bassmap==0.0.18) (0.8.3)\n",
            "Requirement already satisfied: pyzmq>=17 in /usr/local/lib/python3.10/dist-packages (from notebook>=4.4.1->widgetsnbextension~=3.6.0->ipywidgets<9,>=7.6.0->ipyleaflet->bassmap==0.0.18) (23.2.1)\n",
            "Requirement already satisfied: argon2-cffi in /usr/local/lib/python3.10/dist-packages (from notebook>=4.4.1->widgetsnbextension~=3.6.0->ipywidgets<9,>=7.6.0->ipyleaflet->bassmap==0.0.18) (21.3.0)\n",
            "Requirement already satisfied: jupyter-core>=4.6.1 in /usr/local/lib/python3.10/dist-packages (from notebook>=4.4.1->widgetsnbextension~=3.6.0->ipywidgets<9,>=7.6.0->ipyleaflet->bassmap==0.0.18) (5.3.0)\n",
            "Requirement already satisfied: nbformat in /usr/local/lib/python3.10/dist-packages (from notebook>=4.4.1->widgetsnbextension~=3.6.0->ipywidgets<9,>=7.6.0->ipyleaflet->bassmap==0.0.18) (5.8.0)\n",
            "Requirement already satisfied: nbconvert in /usr/local/lib/python3.10/dist-packages (from notebook>=4.4.1->widgetsnbextension~=3.6.0->ipywidgets<9,>=7.6.0->ipyleaflet->bassmap==0.0.18) (6.5.4)\n",
            "Requirement already satisfied: nest-asyncio>=1.5 in /usr/local/lib/python3.10/dist-packages (from notebook>=4.4.1->widgetsnbextension~=3.6.0->ipywidgets<9,>=7.6.0->ipyleaflet->bassmap==0.0.18) (1.5.6)\n",
            "Requirement already satisfied: Send2Trash>=1.8.0 in /usr/local/lib/python3.10/dist-packages (from notebook>=4.4.1->widgetsnbextension~=3.6.0->ipywidgets<9,>=7.6.0->ipyleaflet->bassmap==0.0.18) (1.8.0)\n",
            "Requirement already satisfied: terminado>=0.8.3 in /usr/local/lib/python3.10/dist-packages (from notebook>=4.4.1->widgetsnbextension~=3.6.0->ipywidgets<9,>=7.6.0->ipyleaflet->bassmap==0.0.18) (0.17.1)\n",
            "Requirement already satisfied: prometheus-client in /usr/local/lib/python3.10/dist-packages (from notebook>=4.4.1->widgetsnbextension~=3.6.0->ipywidgets<9,>=7.6.0->ipyleaflet->bassmap==0.0.18) (0.16.0)\n",
            "Requirement already satisfied: ptyprocess>=0.5 in /usr/local/lib/python3.10/dist-packages (from pexpect>4.3->ipython>=4.0.0->ipywidgets<9,>=7.6.0->ipyleaflet->bassmap==0.0.18) (0.7.0)\n",
            "Requirement already satisfied: wcwidth in /usr/local/lib/python3.10/dist-packages (from prompt-toolkit!=3.0.0,!=3.0.1,<3.1.0,>=2.0.0->ipython>=4.0.0->ipywidgets<9,>=7.6.0->ipyleaflet->bassmap==0.0.18) (0.2.6)\n",
            "Requirement already satisfied: platformdirs>=2.5 in /usr/local/lib/python3.10/dist-packages (from jupyter-core>=4.6.1->notebook>=4.4.1->widgetsnbextension~=3.6.0->ipywidgets<9,>=7.6.0->ipyleaflet->bassmap==0.0.18) (3.3.0)\n",
            "Requirement already satisfied: argon2-cffi-bindings in /usr/local/lib/python3.10/dist-packages (from argon2-cffi->notebook>=4.4.1->widgetsnbextension~=3.6.0->ipywidgets<9,>=7.6.0->ipyleaflet->bassmap==0.0.18) (21.2.0)\n",
            "Requirement already satisfied: lxml in /usr/local/lib/python3.10/dist-packages (from nbconvert->notebook>=4.4.1->widgetsnbextension~=3.6.0->ipywidgets<9,>=7.6.0->ipyleaflet->bassmap==0.0.18) (4.9.2)\n",
            "Requirement already satisfied: bleach in /usr/local/lib/python3.10/dist-packages (from nbconvert->notebook>=4.4.1->widgetsnbextension~=3.6.0->ipywidgets<9,>=7.6.0->ipyleaflet->bassmap==0.0.18) (6.0.0)\n",
            "Requirement already satisfied: defusedxml in /usr/local/lib/python3.10/dist-packages (from nbconvert->notebook>=4.4.1->widgetsnbextension~=3.6.0->ipywidgets<9,>=7.6.0->ipyleaflet->bassmap==0.0.18) (0.7.1)\n",
            "Requirement already satisfied: entrypoints>=0.2.2 in /usr/local/lib/python3.10/dist-packages (from nbconvert->notebook>=4.4.1->widgetsnbextension~=3.6.0->ipywidgets<9,>=7.6.0->ipyleaflet->bassmap==0.0.18) (0.4)\n",
            "Requirement already satisfied: jupyterlab-pygments in /usr/local/lib/python3.10/dist-packages (from nbconvert->notebook>=4.4.1->widgetsnbextension~=3.6.0->ipywidgets<9,>=7.6.0->ipyleaflet->bassmap==0.0.18) (0.2.2)\n",
            "Requirement already satisfied: mistune<2,>=0.8.1 in /usr/local/lib/python3.10/dist-packages (from nbconvert->notebook>=4.4.1->widgetsnbextension~=3.6.0->ipywidgets<9,>=7.6.0->ipyleaflet->bassmap==0.0.18) (0.8.4)\n",
            "Requirement already satisfied: nbclient>=0.5.0 in /usr/local/lib/python3.10/dist-packages (from nbconvert->notebook>=4.4.1->widgetsnbextension~=3.6.0->ipywidgets<9,>=7.6.0->ipyleaflet->bassmap==0.0.18) (0.7.4)\n",
            "Requirement already satisfied: pandocfilters>=1.4.1 in /usr/local/lib/python3.10/dist-packages (from nbconvert->notebook>=4.4.1->widgetsnbextension~=3.6.0->ipywidgets<9,>=7.6.0->ipyleaflet->bassmap==0.0.18) (1.5.0)\n",
            "Requirement already satisfied: tinycss2 in /usr/local/lib/python3.10/dist-packages (from nbconvert->notebook>=4.4.1->widgetsnbextension~=3.6.0->ipywidgets<9,>=7.6.0->ipyleaflet->bassmap==0.0.18) (1.2.1)\n",
            "Requirement already satisfied: fastjsonschema in /usr/local/lib/python3.10/dist-packages (from nbformat->notebook>=4.4.1->widgetsnbextension~=3.6.0->ipywidgets<9,>=7.6.0->ipyleaflet->bassmap==0.0.18) (2.16.3)\n",
            "Requirement already satisfied: jsonschema>=2.6 in /usr/local/lib/python3.10/dist-packages (from nbformat->notebook>=4.4.1->widgetsnbextension~=3.6.0->ipywidgets<9,>=7.6.0->ipyleaflet->bassmap==0.0.18) (4.3.3)\n",
            "Requirement already satisfied: pyrsistent!=0.17.0,!=0.17.1,!=0.17.2,>=0.14.0 in /usr/local/lib/python3.10/dist-packages (from jsonschema>=2.6->nbformat->notebook>=4.4.1->widgetsnbextension~=3.6.0->ipywidgets<9,>=7.6.0->ipyleaflet->bassmap==0.0.18) (0.19.3)\n",
            "Requirement already satisfied: cffi>=1.0.1 in /usr/local/lib/python3.10/dist-packages (from argon2-cffi-bindings->argon2-cffi->notebook>=4.4.1->widgetsnbextension~=3.6.0->ipywidgets<9,>=7.6.0->ipyleaflet->bassmap==0.0.18) (1.15.1)\n",
            "Requirement already satisfied: webencodings in /usr/local/lib/python3.10/dist-packages (from bleach->nbconvert->notebook>=4.4.1->widgetsnbextension~=3.6.0->ipywidgets<9,>=7.6.0->ipyleaflet->bassmap==0.0.18) (0.5.1)\n",
            "Requirement already satisfied: pycparser in /usr/local/lib/python3.10/dist-packages (from cffi>=1.0.1->argon2-cffi-bindings->argon2-cffi->notebook>=4.4.1->widgetsnbextension~=3.6.0->ipywidgets<9,>=7.6.0->ipyleaflet->bassmap==0.0.18) (2.21)\n",
            "Looking in indexes: https://pypi.org/simple, https://us-python.pkg.dev/colab-wheels/public/simple/\n",
            "Requirement already satisfied: gdal in /usr/local/lib/python3.10/dist-packages (3.3.2)\n"
          ]
        }
      ],
      "source": [
        "# !pip install bassmap==0.0.18\n",
        "# !pip install gdal"
      ]
    },
    {
      "attachments": {},
      "cell_type": "markdown",
      "metadata": {
        "id": "r3VtZAWVAAK6"
      },
      "source": [
        "Import **bassmap** module"
      ]
    },
    {
      "cell_type": "code",
      "execution_count": 2,
      "metadata": {
        "id": "ikKxRcWI_7qS"
      },
      "outputs": [],
      "source": [
        "import bassmap\n",
        "from osgeo import gdal"
      ]
    },
    {
      "attachments": {},
      "cell_type": "markdown",
      "metadata": {
        "id": "jYO2iaukAFWK"
      },
      "source": [
        "Define file path to Landsat 8 GeoTIFF bands"
      ]
    },
    {
      "cell_type": "code",
      "execution_count": 6,
      "metadata": {
        "id": "sA8Cr1UIAJwi"
      },
      "outputs": [],
      "source": [
        "red_band = gdal.Open('/content/LC09_L1TP_021035_20230419_20230420_02_T1_B4.TIF').ReadAsArray()\n",
        "green_band = gdal.Open('/content/LC09_L1TP_021035_20230419_20230420_02_T1_B3.TIF').ReadAsArray()\n",
        "blue_band = gdal.Open('/content/LC09_L1TP_021035_20230419_20230420_02_T1_B2.TIF').ReadAsArray()\n",
        "nir_band = gdal.Open('/content/LC09_L1TP_021035_20230419_20230420_02_T1_B5.TIF').ReadAsArray()\n",
        "swir_band = gdal.Open('/content/LC09_L1TP_021035_20230419_20230420_02_T1_B6.TIF').ReadAsArray()\n",
        "swir2_band = gdal.Open('/content/LC09_L1TP_021035_20230419_20230420_02_T1_B7.TIF').ReadAsArray()\n",
        "georef = gdal.Open('/content/LC09_L1TP_021035_20230419_20230420_02_T1_B4.TIF')"
      ]
    },
    {
      "attachments": {},
      "cell_type": "markdown",
      "metadata": {
        "id": "CGjutuGPiqcX"
      },
      "source": [
        "# **Remote Sensing Applications**\n",
        "Using the following functions, you can create different spectral composites of **Landsat 8** satellite data using local GeoTIFF files downloaded from *USGS EarthExplorer*.\n",
        "\n",
        "### Get **True Color** composite"
      ]
    },
    {
      "cell_type": "code",
      "execution_count": 7,
      "metadata": {
        "colab": {
          "base_uri": "https://localhost:8080/",
          "height": 17
        },
        "id": "wLGkcfnjBayC",
        "outputId": "ea162b05-04e5-48da-c2c7-2fc3660a84b9"
      },
      "outputs": [
        {
          "data": {
            "application/javascript": "\n    async function download(id, filename, size) {\n      if (!google.colab.kernel.accessAllowed) {\n        return;\n      }\n      const div = document.createElement('div');\n      const label = document.createElement('label');\n      label.textContent = `Downloading \"${filename}\": `;\n      div.appendChild(label);\n      const progress = document.createElement('progress');\n      progress.max = size;\n      div.appendChild(progress);\n      document.body.appendChild(div);\n\n      const buffers = [];\n      let downloaded = 0;\n\n      const channel = await google.colab.kernel.comms.open(id);\n      // Send a message to notify the kernel that we're ready.\n      channel.send({})\n\n      for await (const message of channel.messages) {\n        // Send a message to notify the kernel that we're ready.\n        channel.send({})\n        if (message.buffers) {\n          for (const buffer of message.buffers) {\n            buffers.push(buffer);\n            downloaded += buffer.byteLength;\n            progress.value = downloaded;\n          }\n        }\n      }\n      const blob = new Blob(buffers, {type: 'application/binary'});\n      const a = document.createElement('a');\n      a.href = window.URL.createObjectURL(blob);\n      a.download = filename;\n      div.appendChild(a);\n      a.click();\n      div.remove();\n    }\n  ",
            "text/plain": [
              "<IPython.core.display.Javascript object>"
            ]
          },
          "metadata": {},
          "output_type": "display_data"
        },
        {
          "data": {
            "application/javascript": "download(\"download_44797503-b9d4-4e83-87be-f96e8651585a\", \"true_color_comp.tif\", 360916170)",
            "text/plain": [
              "<IPython.core.display.Javascript object>"
            ]
          },
          "metadata": {},
          "output_type": "display_data"
        }
      ],
      "source": [
        "from bassmap import get_truecolor\n",
        "get_truecolor(red_band, green_band, blue_band, georef)"
      ]
    },
    {
      "attachments": {},
      "cell_type": "markdown",
      "metadata": {
        "id": "LfyYlKAOtkbG"
      },
      "source": [
        "### Get **Color Infrared (Buildings)** composite"
      ]
    },
    {
      "cell_type": "code",
      "execution_count": null,
      "metadata": {
        "id": "viver8iQBgZC"
      },
      "outputs": [],
      "source": [
        "from bassmap import get_color_infrared\n",
        "get_color_infrared(nir_band, red_band, green_band)"
      ]
    },
    {
      "attachments": {},
      "cell_type": "markdown",
      "metadata": {
        "id": "q8fWC-ZNtohm"
      },
      "source": [
        "### Get **False Color (Vegetation)** composite"
      ]
    },
    {
      "cell_type": "code",
      "execution_count": null,
      "metadata": {
        "id": "L3VtO5vqtu5l"
      },
      "outputs": [],
      "source": [
        "from bassmap import get_false_color\n",
        "get_false_color(swir2_band, swir_band, red_band)"
      ]
    },
    {
      "attachments": {},
      "cell_type": "markdown",
      "metadata": {
        "id": "d8LL-cGntvLm"
      },
      "source": [
        "### Get **Healthy Vegetation** composite"
      ]
    },
    {
      "cell_type": "code",
      "execution_count": null,
      "metadata": {
        "id": "3NiiehXDt2R2"
      },
      "outputs": [],
      "source": [
        "from bassmap import get_health_veg\n",
        "get_health_veg(nir_band, swir_band, blue_band)"
      ]
    },
    {
      "attachments": {},
      "cell_type": "markdown",
      "metadata": {
        "id": "sj9r9nGdt2s-"
      },
      "source": [
        "### Get **Normalized Difference Moisture Index (NDMI)** composite"
      ]
    },
    {
      "cell_type": "code",
      "execution_count": null,
      "metadata": {
        "id": "mwQCEGaCt6x2"
      },
      "outputs": [],
      "source": [
        "from bassmap import get_NDMI\n",
        "get_NDMI(nir_band, swir_band)"
      ]
    },
    {
      "attachments": {},
      "cell_type": "markdown",
      "metadata": {
        "id": "B_2UdmLzt8he"
      },
      "source": [
        "### Get **Normalized Difference Vegetation Index (NDVI)** composite"
      ]
    },
    {
      "cell_type": "code",
      "execution_count": null,
      "metadata": {
        "id": "y8Njv4a7uBtt"
      },
      "outputs": [],
      "source": [
        "from bassmap import get_NDVI\n",
        "get_NDVI(red_band, nir_band)"
      ]
    }
  ],
  "metadata": {
    "colab": {
      "provenance": []
    },
    "kernelspec": {
      "display_name": "Python 3",
      "name": "python3"
    },
    "language_info": {
      "name": "python"
    }
  },
  "nbformat": 4,
  "nbformat_minor": 0
}
