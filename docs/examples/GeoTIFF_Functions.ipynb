{
  "cells": [
    {
      "attachments": {},
      "cell_type": "markdown",
      "metadata": {
        "id": "8R8gyrnT_5UL"
      },
      "source": [
        "[![Open In Colab](https://colab.research.google.com/assets/colab-badge.svg)](https://colab.research.google.com/github/bassneel/bassmap/blob/main/docs/examples/GeoTIFF_Functions.ipynb)"
      ]
    },
    {
      "attachments": {},
      "cell_type": "markdown",
      "metadata": {
        "id": "w8NKaTHWu3Ce"
      },
      "source": [
        "# **Bassmap Landsat Tools**\n",
        "The following tools can be used to easily convert individual Landsat 8 bands into multispectral composites for use in remote sensing."
      ]
    },
    {
      "attachments": {},
      "cell_type": "markdown",
      "metadata": {
        "id": "qgxLt7RV_t4y"
      },
      "source": [
        "## **Install Bassmap**\n",
        "Install Bassmap package to python notebook or conda environment. *Make sure to install GDAL to your notebook or environment with:*"
      ]
    },
    {
      "attachments": {},
      "cell_type": "markdown",
      "metadata": {
        "id": "a46CfH6Bi5MP"
      },
      "source": [
        "*notebook:* `!pip install bassmap gdal`"
      ]
    },
    {
      "attachments": {},
      "cell_type": "markdown",
      "metadata": {},
      "source": [
        "*conda env:* `pip install bassmap` and `conda install -c conda-forge gdal`"
      ]
    },
    {
      "cell_type": "code",
      "execution_count": null,
      "metadata": {
        "colab": {
          "base_uri": "https://localhost:8080/"
        },
        "id": "Cxj8ytoX63Jc",
        "outputId": "c9165956-fb2f-47e0-ff71-875c21d5d1a7"
      },
      "outputs": [],
      "source": [
        "# !pip install bassmap\n",
        "# !pip install gdal"
      ]
    },
    {
      "attachments": {},
      "cell_type": "markdown",
      "metadata": {
        "id": "r3VtZAWVAAK6"
      },
      "source": [
        "Import **bassmap** module"
      ]
    },
    {
      "cell_type": "code",
      "execution_count": 9,
      "metadata": {
        "id": "ikKxRcWI_7qS"
      },
      "outputs": [],
      "source": [
        "import bassmap\n",
        "from osgeo import gdal"
      ]
    },
    {
      "attachments": {},
      "cell_type": "markdown",
      "metadata": {
        "id": "jYO2iaukAFWK"
      },
      "source": [
        "Define file path to Landsat 8 GeoTIFF bands"
      ]
    },
    {
      "cell_type": "code",
      "execution_count": 10,
      "metadata": {},
      "outputs": [],
      "source": [
        "### If using local file directory\n",
        "\n",
        "red_band = gdal.Open('C:/Users/bassn/temp_dir/LC09_L1TP_021035_20230419_20230420_02_T1_B4.TIF').ReadAsArray()\n",
        "green_band = gdal.Open('C:/Users/bassn/temp_dir/LC09_L1TP_021035_20230419_20230420_02_T1_B3.TIF').ReadAsArray()\n",
        "blue_band = gdal.Open('C:/Users/bassn/temp_dir/LC09_L1TP_021035_20230419_20230420_02_T1_B2.TIF').ReadAsArray()\n",
        "nir_band = gdal.Open('C:/Users/bassn/temp_dir/LC09_L1TP_021035_20230419_20230420_02_T1_B5.TIF').ReadAsArray()\n",
        "swir_band = gdal.Open('C:/Users/bassn/temp_dir/LC09_L1TP_021035_20230419_20230420_02_T1_B6.TIF').ReadAsArray()\n",
        "swir2_band = gdal.Open('C:/Users/bassn/temp_dir/LC09_L1TP_021035_20230419_20230420_02_T1_B7.TIF').ReadAsArray()\n",
        "georef = gdal.Open('C:/Users/bassn/temp_dir/LC09_L1TP_021035_20230419_20230420_02_T1_B4.TIF')"
      ]
    },
    {
      "attachments": {},
      "cell_type": "markdown",
      "metadata": {},
      "source": [
        "*If using **Google Colab***"
      ]
    },
    {
      "cell_type": "code",
      "execution_count": 6,
      "metadata": {
        "id": "sA8Cr1UIAJwi"
      },
      "outputs": [],
      "source": [
        "# Uncomment to use in Google Colab\n",
        "\n",
        "# red_band = gdal.Open('/content/LC09_L1TP_021035_20230419_20230420_02_T1_B4.TIF').ReadAsArray()\n",
        "# green_band = gdal.Open('/content/LC09_L1TP_021035_20230419_20230420_02_T1_B3.TIF').ReadAsArray()\n",
        "# blue_band = gdal.Open('/content/LC09_L1TP_021035_20230419_20230420_02_T1_B2.TIF').ReadAsArray()\n",
        "# nir_band = gdal.Open('/content/LC09_L1TP_021035_20230419_20230420_02_T1_B5.TIF').ReadAsArray()\n",
        "# swir_band = gdal.Open('/content/LC09_L1TP_021035_20230419_20230420_02_T1_B6.TIF').ReadAsArray()\n",
        "# swir2_band = gdal.Open('/content/LC09_L1TP_021035_20230419_20230420_02_T1_B7.TIF').ReadAsArray()\n",
        "# georef = gdal.Open('/content/LC09_L1TP_021035_20230419_20230420_02_T1_B4.TIF')"
      ]
    },
    {
      "attachments": {},
      "cell_type": "markdown",
      "metadata": {
        "id": "CGjutuGPiqcX"
      },
      "source": [
        "# **Remote Sensing Applications**\n",
        "Using the following functions, you can create different spectral composites of **Landsat 8** satellite data using local GeoTIFF files downloaded from *USGS EarthExplorer*.\n",
        "\n",
        "### Get **True Color** composite"
      ]
    },
    {
      "cell_type": "code",
      "execution_count": null,
      "metadata": {
        "colab": {
          "base_uri": "https://localhost:8080/",
          "height": 17
        },
        "id": "wLGkcfnjBayC",
        "outputId": "ea162b05-04e5-48da-c2c7-2fc3660a84b9"
      },
      "outputs": [],
      "source": [
        "from bassmap import get_truecolor\n",
        "get_truecolor(red_band, green_band, blue_band, georef)"
      ]
    },
    {
      "attachments": {},
      "cell_type": "markdown",
      "metadata": {
        "id": "LfyYlKAOtkbG"
      },
      "source": [
        "### Get **Color Infrared** (Buildings) composite"
      ]
    },
    {
      "cell_type": "code",
      "execution_count": null,
      "metadata": {
        "id": "viver8iQBgZC"
      },
      "outputs": [],
      "source": [
        "from bassmap import get_color_infrared\n",
        "get_color_infrared(nir_band, red_band, green_band, georef)"
      ]
    },
    {
      "attachments": {},
      "cell_type": "markdown",
      "metadata": {
        "id": "q8fWC-ZNtohm"
      },
      "source": [
        "### Get **False Color** (Vegetation) composite"
      ]
    },
    {
      "cell_type": "code",
      "execution_count": null,
      "metadata": {
        "id": "L3VtO5vqtu5l"
      },
      "outputs": [],
      "source": [
        "from bassmap import get_false_color\n",
        "get_false_color(swir2_band, swir_band, red_band, georef)"
      ]
    },
    {
      "attachments": {},
      "cell_type": "markdown",
      "metadata": {
        "id": "d8LL-cGntvLm"
      },
      "source": [
        "### Get **Healthy Vegetation** composite"
      ]
    },
    {
      "cell_type": "code",
      "execution_count": null,
      "metadata": {
        "id": "3NiiehXDt2R2"
      },
      "outputs": [],
      "source": [
        "from bassmap import get_health_veg\n",
        "get_health_veg(nir_band, swir_band, blue_band, georef)"
      ]
    },
    {
      "attachments": {},
      "cell_type": "markdown",
      "metadata": {
        "id": "sj9r9nGdt2s-"
      },
      "source": [
        "### Get **Normalized Difference Moisture Index (NDMI)** composite"
      ]
    },
    {
      "cell_type": "code",
      "execution_count": null,
      "metadata": {
        "id": "mwQCEGaCt6x2"
      },
      "outputs": [],
      "source": [
        "from bassmap import get_ndmi\n",
        "get_ndmi(nir_band, swir_band, georef)"
      ]
    },
    {
      "attachments": {},
      "cell_type": "markdown",
      "metadata": {
        "id": "B_2UdmLzt8he"
      },
      "source": [
        "### Get **Normalized Difference Vegetation Index (NDVI)** composite"
      ]
    },
    {
      "cell_type": "code",
      "execution_count": null,
      "metadata": {
        "id": "y8Njv4a7uBtt"
      },
      "outputs": [],
      "source": [
        "from bassmap import get_NDVI\n",
        "get_NDVI(red_band, nir_band, georef)"
      ]
    }
  ],
  "metadata": {
    "colab": {
      "provenance": []
    },
    "kernelspec": {
      "display_name": "Python 3",
      "name": "python3"
    },
    "language_info": {
      "name": "python"
    }
  },
  "nbformat": 4,
  "nbformat_minor": 0
}
