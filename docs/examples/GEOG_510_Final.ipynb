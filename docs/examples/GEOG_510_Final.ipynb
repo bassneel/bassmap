{
  "cells": [
    {
      "cell_type": "markdown",
      "metadata": {
        "id": "XqQd8Nm4vKr7"
      },
      "source": [
        "# Final Exam\n",
        "This incomplete notebook will be the reason I don't graduate on time. *Note to self: if I only need 3 elective credit hours, don't take the most difficult course in the geography department*"
      ]
    },
    {
      "cell_type": "markdown",
      "metadata": {
        "id": "p3cvG7-3vKFs"
      },
      "source": []
    },
    {
      "cell_type": "code",
      "execution_count": null,
      "metadata": {
        "id": "lOPOCNTdNQrV"
      },
      "outputs": [],
      "source": [
        "!pip install bassmap==0.1.1"
      ]
    },
    {
      "cell_type": "code",
      "execution_count": 90,
      "metadata": {
        "id": "P_7aOrwoMn4K"
      },
      "outputs": [],
      "source": [
        "in_csv = '/content/us_state_capitals.csv'"
      ]
    },
    {
      "cell_type": "markdown",
      "metadata": {
        "id": "HkqyHwLTY-eY"
      },
      "source": [
        "## Question 1"
      ]
    },
    {
      "cell_type": "code",
      "execution_count": 91,
      "metadata": {
        "colab": {
          "base_uri": "https://localhost:8080/"
        },
        "id": "2vfEd2cTXa1H",
        "outputId": "bcd67c44-5ea3-4f14-f624-796bcc7a4f4e"
      },
      "outputs": [
        {
          "name": "stderr",
          "output_type": "stream",
          "text": [
            "<ipython-input-16-6ab54155449d>:7: UserWarning: Column names longer than 10 characters will be truncated when saved to ESRI Shapefile.\n",
            "  gdf.to_file('csv_points.shp', driver='ESRI Shapefile')\n",
            "WARNING:fiona._env:Normalized/laundered field name: 'description' to 'descriptio'\n"
          ]
        }
      ],
      "source": [
        "csv_to_points(in_csv)"
      ]
    },
    {
      "cell_type": "markdown",
      "metadata": {
        "id": "24OLV2DsZCBH"
      },
      "source": [
        "## Question 2"
      ]
    },
    {
      "cell_type": "code",
      "execution_count": 92,
      "metadata": {
        "colab": {
          "base_uri": "https://localhost:8080/",
          "height": 493,
          "referenced_widgets": [
            "1a45349e65414ff3af9e2fd871d4647e",
            "78600025915f42feb3276177466e99d4",
            "01ee0e25a6834893ab64cba42c1a1f49",
            "6e25adbb92a349ba95fd62ada5ff3924",
            "365c8c8b6c8941f6a8f71cb2948709e3",
            "18e0414cedc74fc5a465540222dd23a7",
            "fb017bd2f06e42ce8fd9bdd444c559ba",
            "730937727caa44ef91239cb63ac67f67",
            "f091587fd7524ca8bee02f0eb7f61479",
            "f35063c5d45b429bbaf010599be3e0bc"
          ]
        },
        "id": "U3sQlty4Ys8M",
        "outputId": "df43be28-9824-4e3f-9ff0-d9f1729b0430"
      },
      "outputs": [
        {
          "name": "stderr",
          "output_type": "stream",
          "text": [
            "<ipython-input-68-f2687e82ab79>:7: UserWarning: Column names longer than 10 characters will be truncated when saved to ESRI Shapefile.\n",
            "  gdf.to_file('marker_cluster.shp', driver='ESRI Shapefile')\n",
            "WARNING:fiona._env:Normalized/laundered field name: 'description' to 'descriptio'\n"
          ]
        },
        {
          "data": {
            "application/vnd.jupyter.widget-view+json": {
              "model_id": "1a45349e65414ff3af9e2fd871d4647e",
              "version_major": 2,
              "version_minor": 0
            },
            "text/plain": [
              "Mapomatic(center=[0, 0], controls=(ZoomControl(options=['position', 'zoom_in_text', 'zoom_in_title', 'zoom_out…"
            ]
          },
          "metadata": {
            "application/vnd.jupyter.widget-view+json": {
              "colab": {
                "custom_widget_manager": {
                  "url": "https://ssl.gstatic.com/colaboratory-static/widgets/colab-cdn-widget-manager/b3e629b1971e1542/manager.min.js"
                }
              }
            }
          },
          "output_type": "display_data"
        }
      ],
      "source": [
        "add_marker_cluster(in_csv)"
      ]
    },
    {
      "cell_type": "markdown",
      "metadata": {
        "id": "DisOyqHWvaLM"
      },
      "source": [
        "### Question 3\n",
        "*Uh oh* looks like I couldn't figure this one out after trial and error. There goes my Bachelors degree"
      ]
    }
  ],
  "metadata": {
    "colab": {
      "provenance": []
    },
    "kernelspec": {
      "display_name": "Python 3",
      "name": "python3"
    },
    "language_info": {
      "name": "python"
    },
    "widgets": {
      "application/vnd.jupyter.widget-state+json": {
        "01ee0e25a6834893ab64cba42c1a1f49": {
          "model_module": "jupyter-leaflet",
          "model_module_version": "^0.17",
          "model_name": "LeafletAttributionControlModel",
          "state": {
            "_model_module": "jupyter-leaflet",
            "_model_module_version": "^0.17",
            "_model_name": "LeafletAttributionControlModel",
            "_view_count": null,
            "_view_module": "jupyter-leaflet",
            "_view_module_version": "^0.17",
            "_view_name": "LeafletAttributionControlView",
            "options": [
              "position",
              "prefix"
            ],
            "position": "bottomright",
            "prefix": "ipyleaflet"
          }
        },
        "18e0414cedc74fc5a465540222dd23a7": {
          "model_module": "jupyter-leaflet",
          "model_module_version": "^0.17",
          "model_name": "LeafletMapStyleModel",
          "state": {
            "_model_module": "jupyter-leaflet",
            "_model_module_version": "^0.17",
            "_model_name": "LeafletMapStyleModel",
            "_view_count": null,
            "_view_module": "@jupyter-widgets/base",
            "_view_module_version": "1.2.0",
            "_view_name": "StyleView",
            "cursor": "move"
          }
        },
        "1a45349e65414ff3af9e2fd871d4647e": {
          "model_module": "jupyter-leaflet",
          "model_module_version": "^0.17",
          "model_name": "LeafletMapModel",
          "state": {
            "_dom_classes": [],
            "_model_module": "jupyter-leaflet",
            "_model_module_version": "^0.17",
            "_model_name": "LeafletMapModel",
            "_view_count": null,
            "_view_module": "jupyter-leaflet",
            "_view_module_version": "^0.17",
            "_view_name": "LeafletMapView",
            "bottom": 990.9999694824219,
            "bounce_at_zoom_limits": true,
            "box_zoom": true,
            "center": [
              37.85751139167156,
              -87.31918160426808
            ],
            "close_popup_on_click": true,
            "controls": [
              "IPY_MODEL_78600025915f42feb3276177466e99d4",
              "IPY_MODEL_01ee0e25a6834893ab64cba42c1a1f49",
              "IPY_MODEL_6e25adbb92a349ba95fd62ada5ff3924"
            ],
            "crs": {
              "custom": false,
              "name": "EPSG3857"
            },
            "default_style": "IPY_MODEL_365c8c8b6c8941f6a8f71cb2948709e3",
            "double_click_zoom": true,
            "dragging": true,
            "dragging_style": "IPY_MODEL_18e0414cedc74fc5a465540222dd23a7",
            "east": -12.260587854268087,
            "fullscreen": false,
            "inertia": true,
            "inertia_deceleration": 3000,
            "inertia_max_speed": 1500,
            "interpolation": "bilinear",
            "keyboard": true,
            "keyboard_pan_offset": 80,
            "keyboard_zoom_offset": 1,
            "layers": [
              "IPY_MODEL_fb017bd2f06e42ce8fd9bdd444c559ba",
              "IPY_MODEL_730937727caa44ef91239cb63ac67f67"
            ],
            "layout": "IPY_MODEL_f091587fd7524ca8bee02f0eb7f61479",
            "left": 100.25087798460828,
            "max_zoom": null,
            "min_zoom": null,
            "modisdate": "2023-05-10",
            "north": 60.32695039865384,
            "options": [
              "bounce_at_zoom_limits",
              "box_zoom",
              "center",
              "close_popup_on_click",
              "double_click_zoom",
              "dragging",
              "fullscreen",
              "inertia",
              "inertia_deceleration",
              "inertia_max_speed",
              "interpolation",
              "keyboard",
              "keyboard_pan_offset",
              "keyboard_zoom_offset",
              "max_zoom",
              "min_zoom",
              "prefer_canvas",
              "scroll_wheel_zoom",
              "tap",
              "tap_tolerance",
              "touch_zoom",
              "world_copy_jump",
              "zoom",
              "zoom_animation_threshold",
              "zoom_delta",
              "zoom_snap"
            ],
            "panes": {},
            "prefer_canvas": false,
            "right": 954.2508779846082,
            "scroll_wheel_zoom": true,
            "south": 5.790902149914007,
            "style": "IPY_MODEL_365c8c8b6c8941f6a8f71cb2948709e3",
            "tap": true,
            "tap_tolerance": 15,
            "top": 590.9999694824219,
            "touch_zoom": true,
            "west": -162.3777753542681,
            "window_url": "https://0gokkoxted3u-496ff2e9c6d22116-0-colab.googleusercontent.com/outputframe.html?vrz=colab-20230510-060141-RC00_530826613",
            "world_copy_jump": false,
            "zoom": 3,
            "zoom_animation_threshold": 4,
            "zoom_delta": 1,
            "zoom_snap": 1
          }
        },
        "365c8c8b6c8941f6a8f71cb2948709e3": {
          "model_module": "jupyter-leaflet",
          "model_module_version": "^0.17",
          "model_name": "LeafletMapStyleModel",
          "state": {
            "_model_module": "jupyter-leaflet",
            "_model_module_version": "^0.17",
            "_model_name": "LeafletMapStyleModel",
            "_view_count": null,
            "_view_module": "@jupyter-widgets/base",
            "_view_module_version": "1.2.0",
            "_view_name": "StyleView",
            "cursor": "grab"
          }
        },
        "6e25adbb92a349ba95fd62ada5ff3924": {
          "model_module": "jupyter-leaflet",
          "model_module_version": "^0.17",
          "model_name": "LeafletLayersControlModel",
          "state": {
            "_model_module": "jupyter-leaflet",
            "_model_module_version": "^0.17",
            "_model_name": "LeafletLayersControlModel",
            "_view_count": null,
            "_view_module": "jupyter-leaflet",
            "_view_module_version": "^0.17",
            "_view_name": "LeafletLayersControlView",
            "options": [
              "position"
            ],
            "position": "topright"
          }
        },
        "730937727caa44ef91239cb63ac67f67": {
          "model_module": "jupyter-leaflet",
          "model_module_version": "^0.17",
          "model_name": "LeafletGeoJSONModel",
          "state": {
            "_model_module": "jupyter-leaflet",
            "_model_module_version": "^0.17",
            "_model_name": "LeafletGeoJSONModel",
            "_view_count": null,
            "_view_module": "jupyter-leaflet",
            "_view_module_version": "^0.17",
            "_view_name": "LeafletGeoJSONView",
            "base": false,
            "bottom": false,
            "data": {
              "bbox": [
                -157.857376,
                21.307442,
                -69.781693,
                58.301598
              ],
              "features": [
                {
                  "bbox": [
                    -86.300568,
                    32.377716,
                    -86.300568,
                    32.377716
                  ],
                  "geometry": {
                    "coordinates": [
                      -86.300568,
                      32.377716
                    ],
                    "type": "Point"
                  },
                  "id": "0",
                  "properties": {
                    "descriptio": "Montgomery",
                    "latitude": 32.377716,
                    "longitude": -86.300568,
                    "name": "Alabama"
                  },
                  "type": "Feature"
                },
                {
                  "bbox": [
                    -134.420212,
                    58.301598,
                    -134.420212,
                    58.301598
                  ],
                  "geometry": {
                    "coordinates": [
                      -134.420212,
                      58.301598
                    ],
                    "type": "Point"
                  },
                  "id": "1",
                  "properties": {
                    "descriptio": "Juneau",
                    "latitude": 58.301598,
                    "longitude": -134.420212,
                    "name": "Alaska"
                  },
                  "type": "Feature"
                },
                {
                  "bbox": [
                    -112.096962,
                    33.448143,
                    -112.096962,
                    33.448143
                  ],
                  "geometry": {
                    "coordinates": [
                      -112.096962,
                      33.448143
                    ],
                    "type": "Point"
                  },
                  "id": "2",
                  "properties": {
                    "descriptio": "Phoenix",
                    "latitude": 33.448143,
                    "longitude": -112.096962,
                    "name": "Arizona"
                  },
                  "type": "Feature"
                },
                {
                  "bbox": [
                    -92.288986,
                    34.746613,
                    -92.288986,
                    34.746613
                  ],
                  "geometry": {
                    "coordinates": [
                      -92.288986,
                      34.746613
                    ],
                    "type": "Point"
                  },
                  "id": "3",
                  "properties": {
                    "descriptio": "Little Rock",
                    "latitude": 34.746613,
                    "longitude": -92.288986,
                    "name": "Arkansas"
                  },
                  "type": "Feature"
                },
                {
                  "bbox": [
                    -121.493629,
                    38.576668,
                    -121.493629,
                    38.576668
                  ],
                  "geometry": {
                    "coordinates": [
                      -121.493629,
                      38.576668
                    ],
                    "type": "Point"
                  },
                  "id": "4",
                  "properties": {
                    "descriptio": "Sacramento",
                    "latitude": 38.576668,
                    "longitude": -121.493629,
                    "name": "California"
                  },
                  "type": "Feature"
                },
                {
                  "bbox": [
                    -104.984856,
                    39.739227,
                    -104.984856,
                    39.739227
                  ],
                  "geometry": {
                    "coordinates": [
                      -104.984856,
                      39.739227
                    ],
                    "type": "Point"
                  },
                  "id": "5",
                  "properties": {
                    "descriptio": "Denver",
                    "latitude": 39.739227,
                    "longitude": -104.984856,
                    "name": "Colorado"
                  },
                  "type": "Feature"
                },
                {
                  "bbox": [
                    -72.682198,
                    41.764046,
                    -72.682198,
                    41.764046
                  ],
                  "geometry": {
                    "coordinates": [
                      -72.682198,
                      41.764046
                    ],
                    "type": "Point"
                  },
                  "id": "6",
                  "properties": {
                    "descriptio": "Hartford<br>",
                    "latitude": 41.764046,
                    "longitude": -72.682198,
                    "name": "Connecticut"
                  },
                  "type": "Feature"
                },
                {
                  "bbox": [
                    -75.519722,
                    39.157307,
                    -75.519722,
                    39.157307
                  ],
                  "geometry": {
                    "coordinates": [
                      -75.519722,
                      39.157307
                    ],
                    "type": "Point"
                  },
                  "id": "7",
                  "properties": {
                    "descriptio": "Dover",
                    "latitude": 39.157307,
                    "longitude": -75.519722,
                    "name": "Delaware"
                  },
                  "type": "Feature"
                },
                {
                  "bbox": [
                    -157.857376,
                    21.307442,
                    -157.857376,
                    21.307442
                  ],
                  "geometry": {
                    "coordinates": [
                      -157.857376,
                      21.307442
                    ],
                    "type": "Point"
                  },
                  "id": "8",
                  "properties": {
                    "descriptio": "Honolulu",
                    "latitude": 21.307442,
                    "longitude": -157.857376,
                    "name": "Hawaii"
                  },
                  "type": "Feature"
                },
                {
                  "bbox": [
                    -84.281296,
                    30.438118,
                    -84.281296,
                    30.438118
                  ],
                  "geometry": {
                    "coordinates": [
                      -84.281296,
                      30.438118
                    ],
                    "type": "Point"
                  },
                  "id": "9",
                  "properties": {
                    "descriptio": "Tallahassee",
                    "latitude": 30.438118,
                    "longitude": -84.281296,
                    "name": "Florida"
                  },
                  "type": "Feature"
                },
                {
                  "bbox": [
                    -84.388229,
                    33.749027,
                    -84.388229,
                    33.749027
                  ],
                  "geometry": {
                    "coordinates": [
                      -84.388229,
                      33.749027
                    ],
                    "type": "Point"
                  },
                  "id": "10",
                  "properties": {
                    "descriptio": "Atlanta<br>",
                    "latitude": 33.749027,
                    "longitude": -84.388229,
                    "name": "Georgia"
                  },
                  "type": "Feature"
                },
                {
                  "bbox": [
                    -116.199722,
                    43.617775,
                    -116.199722,
                    43.617775
                  ],
                  "geometry": {
                    "coordinates": [
                      -116.199722,
                      43.617775
                    ],
                    "type": "Point"
                  },
                  "id": "11",
                  "properties": {
                    "descriptio": "Boise",
                    "latitude": 43.617775,
                    "longitude": -116.199722,
                    "name": "Idaho"
                  },
                  "type": "Feature"
                },
                {
                  "bbox": [
                    -89.654961,
                    39.798363,
                    -89.654961,
                    39.798363
                  ],
                  "geometry": {
                    "coordinates": [
                      -89.654961,
                      39.798363
                    ],
                    "type": "Point"
                  },
                  "id": "12",
                  "properties": {
                    "descriptio": "Springfield",
                    "latitude": 39.798363,
                    "longitude": -89.654961,
                    "name": "Illinois"
                  },
                  "type": "Feature"
                },
                {
                  "bbox": [
                    -86.162643,
                    39.768623,
                    -86.162643,
                    39.768623
                  ],
                  "geometry": {
                    "coordinates": [
                      -86.162643,
                      39.768623
                    ],
                    "type": "Point"
                  },
                  "id": "13",
                  "properties": {
                    "descriptio": "Indianapolis",
                    "latitude": 39.768623,
                    "longitude": -86.162643,
                    "name": "Indiana"
                  },
                  "type": "Feature"
                },
                {
                  "bbox": [
                    -93.603729,
                    41.591087,
                    -93.603729,
                    41.591087
                  ],
                  "geometry": {
                    "coordinates": [
                      -93.603729,
                      41.591087
                    ],
                    "type": "Point"
                  },
                  "id": "14",
                  "properties": {
                    "descriptio": "Des Moines",
                    "latitude": 41.591087,
                    "longitude": -93.603729,
                    "name": "Iowa"
                  },
                  "type": "Feature"
                },
                {
                  "bbox": [
                    -95.677956,
                    39.048191,
                    -95.677956,
                    39.048191
                  ],
                  "geometry": {
                    "coordinates": [
                      -95.677956,
                      39.048191
                    ],
                    "type": "Point"
                  },
                  "id": "15",
                  "properties": {
                    "descriptio": "Topeka",
                    "latitude": 39.048191,
                    "longitude": -95.677956,
                    "name": "Kansas"
                  },
                  "type": "Feature"
                },
                {
                  "bbox": [
                    -84.875374,
                    38.186722,
                    -84.875374,
                    38.186722
                  ],
                  "geometry": {
                    "coordinates": [
                      -84.875374,
                      38.186722
                    ],
                    "type": "Point"
                  },
                  "id": "16",
                  "properties": {
                    "descriptio": "Frankfort",
                    "latitude": 38.186722,
                    "longitude": -84.875374,
                    "name": "Kentucky"
                  },
                  "type": "Feature"
                },
                {
                  "bbox": [
                    -91.187393,
                    30.457069,
                    -91.187393,
                    30.457069
                  ],
                  "geometry": {
                    "coordinates": [
                      -91.187393,
                      30.457069
                    ],
                    "type": "Point"
                  },
                  "id": "17",
                  "properties": {
                    "descriptio": "Baton Rouge",
                    "latitude": 30.457069,
                    "longitude": -91.187393,
                    "name": "Louisiana"
                  },
                  "type": "Feature"
                },
                {
                  "bbox": [
                    -69.781693,
                    44.307167,
                    -69.781693,
                    44.307167
                  ],
                  "geometry": {
                    "coordinates": [
                      -69.781693,
                      44.307167
                    ],
                    "type": "Point"
                  },
                  "id": "18",
                  "properties": {
                    "descriptio": "Augusta",
                    "latitude": 44.307167,
                    "longitude": -69.781693,
                    "name": "Maine"
                  },
                  "type": "Feature"
                },
                {
                  "bbox": [
                    -76.490936,
                    38.978764,
                    -76.490936,
                    38.978764
                  ],
                  "geometry": {
                    "coordinates": [
                      -76.490936,
                      38.978764
                    ],
                    "type": "Point"
                  },
                  "id": "19",
                  "properties": {
                    "descriptio": "Annapolis",
                    "latitude": 38.978764,
                    "longitude": -76.490936,
                    "name": "Maryland"
                  },
                  "type": "Feature"
                },
                {
                  "bbox": [
                    -71.063698,
                    42.358162,
                    -71.063698,
                    42.358162
                  ],
                  "geometry": {
                    "coordinates": [
                      -71.063698,
                      42.358162
                    ],
                    "type": "Point"
                  },
                  "id": "20",
                  "properties": {
                    "descriptio": "Boston",
                    "latitude": 42.358162,
                    "longitude": -71.063698,
                    "name": "Massachusetts"
                  },
                  "type": "Feature"
                },
                {
                  "bbox": [
                    -84.555328,
                    42.733635,
                    -84.555328,
                    42.733635
                  ],
                  "geometry": {
                    "coordinates": [
                      -84.555328,
                      42.733635
                    ],
                    "type": "Point"
                  },
                  "id": "21",
                  "properties": {
                    "descriptio": "Lansing",
                    "latitude": 42.733635,
                    "longitude": -84.555328,
                    "name": "Michigan"
                  },
                  "type": "Feature"
                },
                {
                  "bbox": [
                    -93.102211,
                    44.955097,
                    -93.102211,
                    44.955097
                  ],
                  "geometry": {
                    "coordinates": [
                      -93.102211,
                      44.955097
                    ],
                    "type": "Point"
                  },
                  "id": "22",
                  "properties": {
                    "descriptio": "St. Paul",
                    "latitude": 44.955097,
                    "longitude": -93.102211,
                    "name": "Minnesota"
                  },
                  "type": "Feature"
                },
                {
                  "bbox": [
                    -90.182106,
                    32.303848,
                    -90.182106,
                    32.303848
                  ],
                  "geometry": {
                    "coordinates": [
                      -90.182106,
                      32.303848
                    ],
                    "type": "Point"
                  },
                  "id": "23",
                  "properties": {
                    "descriptio": "Jackson",
                    "latitude": 32.303848,
                    "longitude": -90.182106,
                    "name": "Mississippi"
                  },
                  "type": "Feature"
                },
                {
                  "bbox": [
                    -92.172935,
                    38.579201,
                    -92.172935,
                    38.579201
                  ],
                  "geometry": {
                    "coordinates": [
                      -92.172935,
                      38.579201
                    ],
                    "type": "Point"
                  },
                  "id": "24",
                  "properties": {
                    "descriptio": "Jefferson City",
                    "latitude": 38.579201,
                    "longitude": -92.172935,
                    "name": "Missouri"
                  },
                  "type": "Feature"
                },
                {
                  "bbox": [
                    -112.018417,
                    46.585709,
                    -112.018417,
                    46.585709
                  ],
                  "geometry": {
                    "coordinates": [
                      -112.018417,
                      46.585709
                    ],
                    "type": "Point"
                  },
                  "id": "25",
                  "properties": {
                    "descriptio": "Helena",
                    "latitude": 46.585709,
                    "longitude": -112.018417,
                    "name": "Montana"
                  },
                  "type": "Feature"
                },
                {
                  "bbox": [
                    -96.699654,
                    40.808075,
                    -96.699654,
                    40.808075
                  ],
                  "geometry": {
                    "coordinates": [
                      -96.699654,
                      40.808075
                    ],
                    "type": "Point"
                  },
                  "id": "26",
                  "properties": {
                    "descriptio": "Lincoln",
                    "latitude": 40.808075,
                    "longitude": -96.699654,
                    "name": "Nebraska"
                  },
                  "type": "Feature"
                },
                {
                  "bbox": [
                    -119.766121,
                    39.163914,
                    -119.766121,
                    39.163914
                  ],
                  "geometry": {
                    "coordinates": [
                      -119.766121,
                      39.163914
                    ],
                    "type": "Point"
                  },
                  "id": "27",
                  "properties": {
                    "descriptio": "Carson City",
                    "latitude": 39.163914,
                    "longitude": -119.766121,
                    "name": "Nevada"
                  },
                  "type": "Feature"
                },
                {
                  "bbox": [
                    -71.537994,
                    43.206898,
                    -71.537994,
                    43.206898
                  ],
                  "geometry": {
                    "coordinates": [
                      -71.537994,
                      43.206898
                    ],
                    "type": "Point"
                  },
                  "id": "28",
                  "properties": {
                    "descriptio": "Concord",
                    "latitude": 43.206898,
                    "longitude": -71.537994,
                    "name": "New Hampshire"
                  },
                  "type": "Feature"
                },
                {
                  "bbox": [
                    -74.769913,
                    40.220596,
                    -74.769913,
                    40.220596
                  ],
                  "geometry": {
                    "coordinates": [
                      -74.769913,
                      40.220596
                    ],
                    "type": "Point"
                  },
                  "id": "29",
                  "properties": {
                    "descriptio": "Trenton",
                    "latitude": 40.220596,
                    "longitude": -74.769913,
                    "name": "New Jersey"
                  },
                  "type": "Feature"
                },
                {
                  "bbox": [
                    -105.939728,
                    35.68224,
                    -105.939728,
                    35.68224
                  ],
                  "geometry": {
                    "coordinates": [
                      -105.939728,
                      35.68224
                    ],
                    "type": "Point"
                  },
                  "id": "30",
                  "properties": {
                    "descriptio": "Santa Fe",
                    "latitude": 35.68224,
                    "longitude": -105.939728,
                    "name": "New Mexico"
                  },
                  "type": "Feature"
                },
                {
                  "bbox": [
                    -78.639099,
                    35.78043,
                    -78.639099,
                    35.78043
                  ],
                  "geometry": {
                    "coordinates": [
                      -78.639099,
                      35.78043
                    ],
                    "type": "Point"
                  },
                  "id": "31",
                  "properties": {
                    "descriptio": "Raleigh",
                    "latitude": 35.78043,
                    "longitude": -78.639099,
                    "name": "North Carolina"
                  },
                  "type": "Feature"
                },
                {
                  "bbox": [
                    -100.783318,
                    46.82085,
                    -100.783318,
                    46.82085
                  ],
                  "geometry": {
                    "coordinates": [
                      -100.783318,
                      46.82085
                    ],
                    "type": "Point"
                  },
                  "id": "32",
                  "properties": {
                    "descriptio": "Bismarck",
                    "latitude": 46.82085,
                    "longitude": -100.783318,
                    "name": "North Dakota"
                  },
                  "type": "Feature"
                },
                {
                  "bbox": [
                    -73.757874,
                    42.652843,
                    -73.757874,
                    42.652843
                  ],
                  "geometry": {
                    "coordinates": [
                      -73.757874,
                      42.652843
                    ],
                    "type": "Point"
                  },
                  "id": "33",
                  "properties": {
                    "descriptio": "Albany",
                    "latitude": 42.652843,
                    "longitude": -73.757874,
                    "name": "New York"
                  },
                  "type": "Feature"
                },
                {
                  "bbox": [
                    -82.999069,
                    39.961346,
                    -82.999069,
                    39.961346
                  ],
                  "geometry": {
                    "coordinates": [
                      -82.999069,
                      39.961346
                    ],
                    "type": "Point"
                  },
                  "id": "34",
                  "properties": {
                    "descriptio": "Columbus",
                    "latitude": 39.961346,
                    "longitude": -82.999069,
                    "name": "Ohio"
                  },
                  "type": "Feature"
                },
                {
                  "bbox": [
                    -97.503342,
                    35.492207,
                    -97.503342,
                    35.492207
                  ],
                  "geometry": {
                    "coordinates": [
                      -97.503342,
                      35.492207
                    ],
                    "type": "Point"
                  },
                  "id": "35",
                  "properties": {
                    "descriptio": "Oklahoma City",
                    "latitude": 35.492207,
                    "longitude": -97.503342,
                    "name": "Oklahoma"
                  },
                  "type": "Feature"
                },
                {
                  "bbox": [
                    -123.030403,
                    44.938461,
                    -123.030403,
                    44.938461
                  ],
                  "geometry": {
                    "coordinates": [
                      -123.030403,
                      44.938461
                    ],
                    "type": "Point"
                  },
                  "id": "36",
                  "properties": {
                    "descriptio": "Salem",
                    "latitude": 44.938461,
                    "longitude": -123.030403,
                    "name": "Oregon"
                  },
                  "type": "Feature"
                },
                {
                  "bbox": [
                    -76.883598,
                    40.264378,
                    -76.883598,
                    40.264378
                  ],
                  "geometry": {
                    "coordinates": [
                      -76.883598,
                      40.264378
                    ],
                    "type": "Point"
                  },
                  "id": "37",
                  "properties": {
                    "descriptio": "Harrisburg",
                    "latitude": 40.264378,
                    "longitude": -76.883598,
                    "name": "Pennsylvania"
                  },
                  "type": "Feature"
                },
                {
                  "bbox": [
                    -71.414963,
                    41.830914,
                    -71.414963,
                    41.830914
                  ],
                  "geometry": {
                    "coordinates": [
                      -71.414963,
                      41.830914
                    ],
                    "type": "Point"
                  },
                  "id": "38",
                  "properties": {
                    "descriptio": "Providence",
                    "latitude": 41.830914,
                    "longitude": -71.414963,
                    "name": "Rhode Island"
                  },
                  "type": "Feature"
                },
                {
                  "bbox": [
                    -81.033211,
                    34.000343,
                    -81.033211,
                    34.000343
                  ],
                  "geometry": {
                    "coordinates": [
                      -81.033211,
                      34.000343
                    ],
                    "type": "Point"
                  },
                  "id": "39",
                  "properties": {
                    "descriptio": "Columbia",
                    "latitude": 34.000343,
                    "longitude": -81.033211,
                    "name": "South Carolina"
                  },
                  "type": "Feature"
                },
                {
                  "bbox": [
                    -100.346405,
                    44.367031,
                    -100.346405,
                    44.367031
                  ],
                  "geometry": {
                    "coordinates": [
                      -100.346405,
                      44.367031
                    ],
                    "type": "Point"
                  },
                  "id": "40",
                  "properties": {
                    "descriptio": "Pierre",
                    "latitude": 44.367031,
                    "longitude": -100.346405,
                    "name": "South Dakota"
                  },
                  "type": "Feature"
                },
                {
                  "bbox": [
                    -86.784241,
                    36.16581,
                    -86.784241,
                    36.16581
                  ],
                  "geometry": {
                    "coordinates": [
                      -86.784241,
                      36.16581
                    ],
                    "type": "Point"
                  },
                  "id": "41",
                  "properties": {
                    "descriptio": "Nashville",
                    "latitude": 36.16581,
                    "longitude": -86.784241,
                    "name": "Tennessee"
                  },
                  "type": "Feature"
                },
                {
                  "bbox": [
                    -97.740349,
                    30.27467,
                    -97.740349,
                    30.27467
                  ],
                  "geometry": {
                    "coordinates": [
                      -97.740349,
                      30.27467
                    ],
                    "type": "Point"
                  },
                  "id": "42",
                  "properties": {
                    "descriptio": "Austin",
                    "latitude": 30.27467,
                    "longitude": -97.740349,
                    "name": "Texas"
                  },
                  "type": "Feature"
                },
                {
                  "bbox": [
                    -111.888237,
                    40.777477,
                    -111.888237,
                    40.777477
                  ],
                  "geometry": {
                    "coordinates": [
                      -111.888237,
                      40.777477
                    ],
                    "type": "Point"
                  },
                  "id": "43",
                  "properties": {
                    "descriptio": "Salt Lake City",
                    "latitude": 40.777477,
                    "longitude": -111.888237,
                    "name": "Utah"
                  },
                  "type": "Feature"
                },
                {
                  "bbox": [
                    -72.580536,
                    44.262436,
                    -72.580536,
                    44.262436
                  ],
                  "geometry": {
                    "coordinates": [
                      -72.580536,
                      44.262436
                    ],
                    "type": "Point"
                  },
                  "id": "44",
                  "properties": {
                    "descriptio": "Montpelier",
                    "latitude": 44.262436,
                    "longitude": -72.580536,
                    "name": "Vermont"
                  },
                  "type": "Feature"
                },
                {
                  "bbox": [
                    -77.43364,
                    37.538857,
                    -77.43364,
                    37.538857
                  ],
                  "geometry": {
                    "coordinates": [
                      -77.43364,
                      37.538857
                    ],
                    "type": "Point"
                  },
                  "id": "45",
                  "properties": {
                    "descriptio": "Richmond",
                    "latitude": 37.538857,
                    "longitude": -77.43364,
                    "name": "Virginia"
                  },
                  "type": "Feature"
                },
                {
                  "bbox": [
                    -122.905014,
                    47.035805,
                    -122.905014,
                    47.035805
                  ],
                  "geometry": {
                    "coordinates": [
                      -122.905014,
                      47.035805
                    ],
                    "type": "Point"
                  },
                  "id": "46",
                  "properties": {
                    "descriptio": "Olympia",
                    "latitude": 47.035805,
                    "longitude": -122.905014,
                    "name": "Washington"
                  },
                  "type": "Feature"
                },
                {
                  "bbox": [
                    -81.612328,
                    38.336246,
                    -81.612328,
                    38.336246
                  ],
                  "geometry": {
                    "coordinates": [
                      -81.612328,
                      38.336246
                    ],
                    "type": "Point"
                  },
                  "id": "47",
                  "properties": {
                    "descriptio": "Charleston",
                    "latitude": 38.336246,
                    "longitude": -81.612328,
                    "name": "West Virginia"
                  },
                  "type": "Feature"
                },
                {
                  "bbox": [
                    -89.384445,
                    43.074684,
                    -89.384445,
                    43.074684
                  ],
                  "geometry": {
                    "coordinates": [
                      -89.384445,
                      43.074684
                    ],
                    "type": "Point"
                  },
                  "id": "48",
                  "properties": {
                    "descriptio": "Madison",
                    "latitude": 43.074684,
                    "longitude": -89.384445,
                    "name": "Wisconsin"
                  },
                  "type": "Feature"
                },
                {
                  "bbox": [
                    -104.820236,
                    41.140259,
                    -104.820236,
                    41.140259
                  ],
                  "geometry": {
                    "coordinates": [
                      -104.820236,
                      41.140259
                    ],
                    "type": "Point"
                  },
                  "id": "49",
                  "properties": {
                    "descriptio": "Cheyenne",
                    "latitude": 41.140259,
                    "longitude": -104.820236,
                    "name": "Wyoming"
                  },
                  "type": "Feature"
                }
              ],
              "type": "FeatureCollection"
            },
            "hover_style": {},
            "layers": [],
            "name": "",
            "options": [],
            "pane": "",
            "point_style": {},
            "popup": null,
            "popup_max_height": null,
            "popup_max_width": 300,
            "popup_min_width": 50,
            "style": {},
            "subitems": [],
            "visible": true
          }
        },
        "78600025915f42feb3276177466e99d4": {
          "model_module": "jupyter-leaflet",
          "model_module_version": "^0.17",
          "model_name": "LeafletZoomControlModel",
          "state": {
            "_model_module": "jupyter-leaflet",
            "_model_module_version": "^0.17",
            "_model_name": "LeafletZoomControlModel",
            "_view_count": null,
            "_view_module": "jupyter-leaflet",
            "_view_module_version": "^0.17",
            "_view_name": "LeafletZoomControlView",
            "options": [
              "position",
              "zoom_in_text",
              "zoom_in_title",
              "zoom_out_text",
              "zoom_out_title"
            ],
            "position": "topleft",
            "zoom_in_text": "+",
            "zoom_in_title": "Zoom in",
            "zoom_out_text": "-",
            "zoom_out_title": "Zoom out"
          }
        },
        "f091587fd7524ca8bee02f0eb7f61479": {
          "model_module": "@jupyter-widgets/base",
          "model_module_version": "1.2.0",
          "model_name": "LayoutModel",
          "state": {
            "_model_module": "@jupyter-widgets/base",
            "_model_module_version": "1.2.0",
            "_model_name": "LayoutModel",
            "_view_count": null,
            "_view_module": "@jupyter-widgets/base",
            "_view_module_version": "1.2.0",
            "_view_name": "LayoutView",
            "align_content": null,
            "align_items": null,
            "align_self": null,
            "border": null,
            "bottom": null,
            "display": null,
            "flex": null,
            "flex_flow": null,
            "grid_area": null,
            "grid_auto_columns": null,
            "grid_auto_flow": null,
            "grid_auto_rows": null,
            "grid_column": null,
            "grid_gap": null,
            "grid_row": null,
            "grid_template_areas": null,
            "grid_template_columns": null,
            "grid_template_rows": null,
            "height": null,
            "justify_content": null,
            "justify_items": null,
            "left": null,
            "margin": null,
            "max_height": null,
            "max_width": null,
            "min_height": null,
            "min_width": null,
            "object_fit": null,
            "object_position": null,
            "order": null,
            "overflow": null,
            "overflow_x": null,
            "overflow_y": null,
            "padding": null,
            "right": null,
            "top": null,
            "visibility": null,
            "width": null
          }
        },
        "f35063c5d45b429bbaf010599be3e0bc": {
          "model_module": "jupyter-leaflet",
          "model_module_version": "^0.17",
          "model_name": "LeafletMapStyleModel",
          "state": {
            "_model_module": "jupyter-leaflet",
            "_model_module_version": "^0.17",
            "_model_name": "LeafletMapStyleModel",
            "_view_count": null,
            "_view_module": "@jupyter-widgets/base",
            "_view_module_version": "1.2.0",
            "_view_name": "StyleView",
            "cursor": "grab"
          }
        },
        "fb017bd2f06e42ce8fd9bdd444c559ba": {
          "model_module": "jupyter-leaflet",
          "model_module_version": "^0.17",
          "model_name": "LeafletTileLayerModel",
          "state": {
            "_model_module": "jupyter-leaflet",
            "_model_module_version": "^0.17",
            "_model_name": "LeafletTileLayerModel",
            "_view_count": null,
            "_view_module": "jupyter-leaflet",
            "_view_module_version": "^0.17",
            "_view_name": "LeafletTileLayerView",
            "attribution": "&copy; <a href=\"https://www.openstreetmap.org/copyright\">OpenStreetMap</a> contributors",
            "base": true,
            "bottom": true,
            "bounds": null,
            "detect_retina": false,
            "loading": false,
            "max_native_zoom": null,
            "max_zoom": 19,
            "min_native_zoom": null,
            "min_zoom": 1,
            "name": "OpenStreetMap.Mapnik",
            "no_wrap": false,
            "opacity": 1,
            "options": [
              "attribution",
              "bounds",
              "detect_retina",
              "max_native_zoom",
              "max_zoom",
              "min_native_zoom",
              "min_zoom",
              "no_wrap",
              "tile_size",
              "tms",
              "zoom_offset"
            ],
            "pane": "",
            "popup": null,
            "popup_max_height": null,
            "popup_max_width": 300,
            "popup_min_width": 50,
            "show_loading": false,
            "subitems": [],
            "tile_size": 256,
            "tms": false,
            "url": "https://tile.openstreetmap.org/{z}/{x}/{y}.png",
            "visible": true,
            "zoom_offset": 0
          }
        }
      }
    }
  },
  "nbformat": 4,
  "nbformat_minor": 0
}
