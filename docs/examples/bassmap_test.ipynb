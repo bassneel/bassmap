{
 "cells": [
  {
   "attachments": {},
   "cell_type": "markdown",
   "metadata": {},
   "source": [
    "[![Open In Colab](https://colab.research.google.com/assets/colab-badge.svg)](https://colab.research.google.com/github/bassneel/bassmap/blob/main/docs/examples/GeoTIFF_Functions.ipynb)"
   ]
  },
  {
   "attachments": {},
   "cell_type": "markdown",
   "metadata": {},
   "source": [
    "## Install Bassmap\n",
    "Install Bassmap package to python notebook or conda environment. *Make sure to install GDAL to your notebook or environment with:*"
   ]
  },
  {
   "attachments": {},
   "cell_type": "markdown",
   "metadata": {},
   "source": [
    "*notebook:* `!pip install gdal`"
   ]
  },
  {
   "attachments": {},
   "cell_type": "markdown",
   "metadata": {},
   "source": [
    "*conda env:* `conda install -c conda-forge gdal`"
   ]
  },
  {
   "cell_type": "code",
   "execution_count": null,
   "metadata": {},
   "outputs": [],
   "source": [
    "# !pip install bassmap"
   ]
  },
  {
   "attachments": {},
   "cell_type": "markdown",
   "metadata": {},
   "source": [
    "Import **bassmap** module"
   ]
  },
  {
   "cell_type": "code",
   "execution_count": 1,
   "metadata": {},
   "outputs": [],
   "source": [
    "import bassmap\n",
    "from osgeo import gdal\n",
    "# from osgeo import gdal"
   ]
  },
  {
   "attachments": {},
   "cell_type": "markdown",
   "metadata": {},
   "source": [
    "Define file path to Landsat 8 GeoTIFF bands"
   ]
  },
  {
   "cell_type": "code",
   "execution_count": null,
   "metadata": {},
   "outputs": [],
   "source": [
    "### If using Google Colab\n",
    "# red_band = gdal.Open('/content/LC09_L1TP_021035_20230419_20230420_02_T1_B4.TIF').ReadAsArray()\n",
    "# green_band = gdal.Open('/content/LC09_L1TP_021035_20230419_20230420_02_T1_B3.TIF').ReadAsArray()\n",
    "# blue_band = gdal.Open('/content/LC09_L1TP_021035_20230419_20230420_02_T1_B2.TIF').ReadAsArray()\n",
    "# nir_band = gdal.Open('/content/LC09_L1TP_021035_20230419_20230420_02_T1_B5.TIF').ReadAsArray()\n",
    "# swir_band = gdal.Open('/content/LC09_L1TP_021035_20230419_20230420_02_T1_B6.TIF').ReadAsArray()\n",
    "# swir2_band = gdal.Open('/content/LC09_L1TP_021035_20230419_20230420_02_T1_B7.TIF').ReadAsArray()\n",
    "# georef = gdal.Open('/content/LC09_L1TP_021035_20230419_20230420_02_T1_B4.TIF')"
   ]
  },
  {
   "cell_type": "code",
   "execution_count": 2,
   "metadata": {},
   "outputs": [],
   "source": [
    "### If using local file directory\n",
    "red_band = gdal.Open('C:/Users/bassn/temp_dir/LC09_L1TP_021035_20230419_20230420_02_T1_B4.TIF').ReadAsArray()\n",
    "green_band = gdal.Open('C:/Users/bassn/temp_dir/LC09_L1TP_021035_20230419_20230420_02_T1_B3.TIF').ReadAsArray()\n",
    "blue_band = gdal.Open('C:/Users/bassn/temp_dir/LC09_L1TP_021035_20230419_20230420_02_T1_B2.TIF').ReadAsArray()\n",
    "nir_band = gdal.Open('C:/Users/bassn/temp_dir/LC09_L1TP_021035_20230419_20230420_02_T1_B5.TIF').ReadAsArray()\n",
    "swir_band = gdal.Open('C:/Users/bassn/temp_dir/LC09_L1TP_021035_20230419_20230420_02_T1_B6.TIF').ReadAsArray()\n",
    "swir2_band = gdal.Open('C:/Users/bassn/temp_dir/LC09_L1TP_021035_20230419_20230420_02_T1_B7.TIF').ReadAsArray()\n",
    "georef = gdal.Open('C:/Users/bassn/temp_dir/LC09_L1TP_021035_20230419_20230420_02_T1_B4.TIF')"
   ]
  },
  {
   "attachments": {},
   "cell_type": "markdown",
   "metadata": {},
   "source": [
    "# Remote Sensing Applications\n",
    "Using the following functions, you can create different spectral composites of **Landsat 8** satellite data using local GeoTIFF files downloaded from *USGS EarthExplorer*.\n",
    "\n",
    "### Get **True Color** composite"
   ]
  },
  {
   "cell_type": "code",
   "execution_count": 4,
   "metadata": {},
   "outputs": [
    {
     "ename": "AttributeError",
     "evalue": "'NoneType' object has no attribute 'SetProjection'",
     "output_type": "error",
     "traceback": [
      "\u001b[1;31m---------------------------------------------------------------------------\u001b[0m",
      "\u001b[1;31mAttributeError\u001b[0m                            Traceback (most recent call last)",
      "Cell \u001b[1;32mIn[4], line 2\u001b[0m\n\u001b[0;32m      1\u001b[0m \u001b[39mfrom\u001b[39;00m \u001b[39mbassmap\u001b[39;00m \u001b[39mimport\u001b[39;00m get_truecolor\n\u001b[1;32m----> 2\u001b[0m get_truecolor(red_band, green_band, blue_band, georef)\n",
      "File \u001b[1;32mc:\\Users\\bassn\\miniconda3\\envs\\geos\\lib\\site-packages\\bassmap\\bassmap.py:345\u001b[0m, in \u001b[0;36mget_truecolor\u001b[1;34m(red_band, green_band, blue_band, georef)\u001b[0m\n\u001b[0;32m    343\u001b[0m \u001b[39m# Create a new TIFF file and write the composite array to it\u001b[39;00m\n\u001b[0;32m    344\u001b[0m truecolor_ds \u001b[39m=\u001b[39m driver\u001b[39m.\u001b[39mCreate(\u001b[39m'\u001b[39m\u001b[39m/tmp/true_color_comp.tif\u001b[39m\u001b[39m'\u001b[39m, xsize, ysize, \u001b[39m3\u001b[39m, gdal\u001b[39m.\u001b[39mGDT_UInt16)\n\u001b[1;32m--> 345\u001b[0m truecolor_ds\u001b[39m.\u001b[39;49mSetProjection(proj)\n\u001b[0;32m    346\u001b[0m truecolor_ds\u001b[39m.\u001b[39mSetGeoTransform(geotrans)\n\u001b[0;32m    347\u001b[0m truecolor_ds\u001b[39m.\u001b[39mGetRasterBand(\u001b[39m1\u001b[39m)\u001b[39m.\u001b[39mWriteArray(true_color[\u001b[39m0\u001b[39m])\n",
      "\u001b[1;31mAttributeError\u001b[0m: 'NoneType' object has no attribute 'SetProjection'"
     ]
    }
   ],
   "source": [
    "from bassmap import get_truecolor\n",
    "get_truecolor(red_band, green_band, blue_band, georef)"
   ]
  },
  {
   "attachments": {},
   "cell_type": "markdown",
   "metadata": {},
   "source": [
    "### Get **Color Infrared (Buildings)** composite"
   ]
  },
  {
   "cell_type": "code",
   "execution_count": null,
   "metadata": {},
   "outputs": [],
   "source": [
    "from bassmap import get_color_infrared\n",
    "get_color_infrared(nir_band, red_band, green_band)"
   ]
  },
  {
   "attachments": {},
   "cell_type": "markdown",
   "metadata": {},
   "source": [
    "### Get **False Color (Vegetation)** composite"
   ]
  },
  {
   "cell_type": "code",
   "execution_count": null,
   "metadata": {},
   "outputs": [],
   "source": [
    "from bassmap import get_false_color\n",
    "get_false_color(swir2_band, swir_band, red_band)"
   ]
  },
  {
   "attachments": {},
   "cell_type": "markdown",
   "metadata": {},
   "source": [
    "### Get **Healthy Vegetation** composite"
   ]
  },
  {
   "cell_type": "code",
   "execution_count": null,
   "metadata": {},
   "outputs": [],
   "source": [
    "from bassmap import get_health_veg\n",
    "get_health_veg(nir_band, swir_band, blue_band)"
   ]
  },
  {
   "attachments": {},
   "cell_type": "markdown",
   "metadata": {},
   "source": [
    "### Get **Normalized Difference Moisture Index (NDMI)** composite"
   ]
  },
  {
   "cell_type": "code",
   "execution_count": null,
   "metadata": {},
   "outputs": [],
   "source": [
    "from bassmap import get_NDMI\n",
    "get_NDMI(nir_band, swir_band)"
   ]
  },
  {
   "attachments": {},
   "cell_type": "markdown",
   "metadata": {},
   "source": [
    "### Get **Normalized Difference Vegetation Index (NDVI)** composite"
   ]
  },
  {
   "cell_type": "code",
   "execution_count": null,
   "metadata": {},
   "outputs": [],
   "source": [
    "from bassmap import get_NDVI\n",
    "get_NDVI(red_band, nir_band)"
   ]
  }
 ],
 "metadata": {
  "kernelspec": {
   "display_name": "geos",
   "language": "python",
   "name": "python3"
  },
  "language_info": {
   "codemirror_mode": {
    "name": "ipython",
    "version": 3
   },
   "file_extension": ".py",
   "mimetype": "text/x-python",
   "name": "python",
   "nbconvert_exporter": "python",
   "pygments_lexer": "ipython3",
   "version": "3.9.16"
  },
  "orig_nbformat": 4
 },
 "nbformat": 4,
 "nbformat_minor": 2
}
