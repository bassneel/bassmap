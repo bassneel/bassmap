{
 "cells": [
  {
   "attachments": {},
   "cell_type": "markdown",
   "metadata": {},
   "source": [
    "[![Open In Colab](https://colab.research.google.com/assets/colab-badge.svg)](https://colab.research.google.com/notebooks/Mapomatic.ipynb)"
   ]
  },
  {
   "cell_type": "code",
   "execution_count": 1,
   "metadata": {},
   "outputs": [],
   "source": [
    "import bassmap"
   ]
  },
  {
   "cell_type": "code",
   "execution_count": 2,
   "metadata": {},
   "outputs": [],
   "source": [
    "from bassmap import Mapomatic"
   ]
  },
  {
   "cell_type": "code",
   "execution_count": 3,
   "metadata": {},
   "outputs": [
    {
     "data": {
      "application/vnd.jupyter.widget-view+json": {
       "model_id": "ce519e200daf4df7b9a324d7d2c3e973",
       "version_major": 2,
       "version_minor": 0
      },
      "text/plain": [
       "Mapomatic(center=[0, 0], controls=(ZoomControl(options=['position', 'zoom_in_text', 'zoom_in_title', 'zoom_out…"
      ]
     },
     "metadata": {},
     "output_type": "display_data"
    }
   ],
   "source": [
    "url = 'https://raw.githubusercontent.com/bassneel/basspublicfiles/main/world_countries.zip'\n",
    "m = Mapomatic(center=[0, 0], zoom=2)\n",
    "m.add_shp(url)\n",
    "m"
   ]
  },
  {
   "cell_type": "code",
   "execution_count": 4,
   "metadata": {},
   "outputs": [
    {
     "data": {
      "application/vnd.jupyter.widget-view+json": {
       "model_id": "ed00d619fa9f4f809bfdc97683248695",
       "version_major": 2,
       "version_minor": 0
      },
      "text/plain": [
       "Mapomatic(center=[0, 0], controls=(ZoomControl(options=['position', 'zoom_in_text', 'zoom_in_title', 'zoom_out…"
      ]
     },
     "metadata": {},
     "output_type": "display_data"
    }
   ],
   "source": [
    "url = 'https://raw.githubusercontent.com/bassneel/basspublicfiles/main/World_Countries_(Generalized).geojson'\n",
    "m = Mapomatic(center=[0, 0], zoom=2)\n",
    "m.add_geojson(url)\n",
    "m"
   ]
  },
  {
   "cell_type": "code",
   "execution_count": 5,
   "metadata": {},
   "outputs": [
    {
     "data": {
      "application/vnd.jupyter.widget-view+json": {
       "model_id": "4c8288bcd37b42db9a77888f507cce11",
       "version_major": 2,
       "version_minor": 0
      },
      "text/plain": [
       "Mapomatic(center=[0, 0], controls=(ZoomControl(options=['position', 'zoom_in_text', 'zoom_in_title', 'zoom_out…"
      ]
     },
     "metadata": {},
     "output_type": "display_data"
    }
   ],
   "source": [
    "url = 'https://raw.githubusercontent.com/bassneel/basspublicfiles/main/World_Countries_(Generalized).geojson'\n",
    "m = Mapomatic(center=[0, 0], zoom=2)\n",
    "m.add_vector(url)\n",
    "m"
   ]
  },
  {
   "cell_type": "code",
   "execution_count": 6,
   "metadata": {},
   "outputs": [
    {
     "data": {
      "application/vnd.jupyter.widget-view+json": {
       "model_id": "fb5aaa1d61a34c8ea0887dcbf5208a38",
       "version_major": 2,
       "version_minor": 0
      },
      "text/plain": [
       "Mapomatic(center=[0, 0], controls=(ZoomControl(options=['position', 'zoom_in_text', 'zoom_in_title', 'zoom_out…"
      ]
     },
     "metadata": {},
     "output_type": "display_data"
    }
   ],
   "source": [
    "m = Mapomatic(center=[0, 0], zoom=2)\n",
    "m.add_basemap('OpenTopoMap', 'https://{s}.tile.opentopomap.org/{z}/{x}/{y}.png')\n",
    "m"
   ]
  },
  {
   "cell_type": "code",
   "execution_count": 7,
   "metadata": {},
   "outputs": [
    {
     "data": {
      "application/vnd.jupyter.widget-view+json": {
       "model_id": "edb4da0e625241e78aff55d9f06bdfa6",
       "version_major": 2,
       "version_minor": 0
      },
      "text/plain": [
       "Mapomatic(center=[0, 0], controls=(ZoomControl(options=['position', 'zoom_in_text', 'zoom_in_title', 'zoom_out…"
      ]
     },
     "metadata": {},
     "output_type": "display_data"
    }
   ],
   "source": [
    "m = Mapomatic(center=(0, 0), zoom=2)\n",
    "url = 'https://raw.githubusercontent.com/bassneel/basspublicfiles/main/bassmap_logo.png'\n",
    "position = (0, 0)\n",
    "size = (100, 100)\n",
    "m.add_image(url, position, size, opacity=0.7, layer_name='My Logo')\n",
    "m"
   ]
  },
  {
   "cell_type": "code",
   "execution_count": 8,
   "metadata": {},
   "outputs": [
    {
     "data": {
      "application/vnd.jupyter.widget-view+json": {
       "model_id": "2ee46af390f442d699279a979e7638a1",
       "version_major": 2,
       "version_minor": 0
      },
      "text/plain": [
       "Mapomatic(center=[0, 0], controls=(ZoomControl(options=['position', 'zoom_in_text', 'zoom_in_title', 'zoom_out…"
      ]
     },
     "metadata": {},
     "output_type": "display_data"
    }
   ],
   "source": [
    "m = Mapomatic(center=(0, 0), zoom=2)\n",
    "url = 'https://opendata.digitalglobe.com/events/mauritius-oil-spill/post-event/2020-08-12/105001001F1B5B00/105001001F1B5B00.tif'\n",
    "m.add_raster(url, cmap='terrain', opacity=0.7, layer_name='My COG')\n",
    "m"
   ]
  }
 ],
 "metadata": {
  "kernelspec": {
   "display_name": "geos",
   "language": "python",
   "name": "python3"
  },
  "language_info": {
   "codemirror_mode": {
    "name": "ipython",
    "version": 3
   },
   "file_extension": ".py",
   "mimetype": "text/x-python",
   "name": "python",
   "nbconvert_exporter": "python",
   "pygments_lexer": "ipython3",
   "version": "3.9.16"
  },
  "orig_nbformat": 4
 },
 "nbformat": 4,
 "nbformat_minor": 2
}
