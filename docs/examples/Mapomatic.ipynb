{
 "cells": [
  {
   "cell_type": "code",
   "execution_count": 2,
   "metadata": {},
   "outputs": [
    {
     "name": "stdout",
     "output_type": "stream",
     "text": [
      "Requirement already satisfied: bassmap in c:\\users\\bassn\\miniconda3\\envs\\geos\\lib\\site-packages (0.0.5)\n",
      "Requirement already satisfied: requests in c:\\users\\bassn\\miniconda3\\envs\\geos\\lib\\site-packages (from bassmap) (2.28.2)\n",
      "Requirement already satisfied: ipyleaflet in c:\\users\\bassn\\miniconda3\\envs\\geos\\lib\\site-packages (from bassmap) (0.17.2)\n",
      "Requirement already satisfied: geopandas in c:\\users\\bassn\\miniconda3\\envs\\geos\\lib\\site-packages (from bassmap) (0.12.2)\n",
      "Requirement already satisfied: folium in c:\\users\\bassn\\miniconda3\\envs\\geos\\lib\\site-packages (from bassmap) (0.14.0)\n",
      "Requirement already satisfied: pycrs in c:\\users\\bassn\\miniconda3\\envs\\geos\\lib\\site-packages (from bassmap) (1.0.2)\n",
      "Requirement already satisfied: matplotlib in c:\\users\\bassn\\miniconda3\\envs\\geos\\lib\\site-packages (from bassmap) (3.6.3)\n",
      "Requirement already satisfied: numpy in c:\\users\\bassn\\miniconda3\\envs\\geos\\lib\\site-packages (from bassmap) (1.24.1)\n",
      "Requirement already satisfied: leafmap in c:\\users\\bassn\\miniconda3\\envs\\geos\\lib\\site-packages (from bassmap) (0.15.0)\n",
      "Requirement already satisfied: rasterio in c:\\users\\bassn\\miniconda3\\envs\\geos\\lib\\site-packages (from bassmap) (1.3.6)\n",
      "Requirement already satisfied: httpx in c:\\users\\bassn\\miniconda3\\envs\\geos\\lib\\site-packages (from bassmap) (0.24.0)\n",
      "Requirement already satisfied: jinja2>=2.9 in c:\\users\\bassn\\miniconda3\\envs\\geos\\lib\\site-packages (from folium->bassmap) (3.1.2)\n",
      "Requirement already satisfied: branca>=0.6.0 in c:\\users\\bassn\\miniconda3\\envs\\geos\\lib\\site-packages (from folium->bassmap) (0.6.0)\n",
      "Requirement already satisfied: packaging in c:\\users\\bassn\\miniconda3\\envs\\geos\\lib\\site-packages (from geopandas->bassmap) (23.0)\n",
      "Requirement already satisfied: pyproj>=2.6.1.post1 in c:\\users\\bassn\\miniconda3\\envs\\geos\\lib\\site-packages (from geopandas->bassmap) (3.5.0)\n",
      "Requirement already satisfied: shapely>=1.7 in c:\\users\\bassn\\miniconda3\\envs\\geos\\lib\\site-packages (from geopandas->bassmap) (2.0.1)\n",
      "Requirement already satisfied: pandas>=1.0.0 in c:\\users\\bassn\\miniconda3\\envs\\geos\\lib\\site-packages (from geopandas->bassmap) (1.5.3)\n",
      "Requirement already satisfied: fiona>=1.8 in c:\\users\\bassn\\miniconda3\\envs\\geos\\lib\\site-packages (from geopandas->bassmap) (1.9.2)\n",
      "Requirement already satisfied: idna in c:\\users\\bassn\\miniconda3\\envs\\geos\\lib\\site-packages (from httpx->bassmap) (3.4)\n",
      "Requirement already satisfied: httpcore<0.18.0,>=0.15.0 in c:\\users\\bassn\\miniconda3\\envs\\geos\\lib\\site-packages (from httpx->bassmap) (0.17.0)\n",
      "Requirement already satisfied: certifi in c:\\users\\bassn\\miniconda3\\envs\\geos\\lib\\site-packages (from httpx->bassmap) (2022.12.7)\n",
      "Requirement already satisfied: sniffio in c:\\users\\bassn\\miniconda3\\envs\\geos\\lib\\site-packages (from httpx->bassmap) (1.3.0)\n",
      "Requirement already satisfied: ipywidgets<9,>=7.6.0 in c:\\users\\bassn\\miniconda3\\envs\\geos\\lib\\site-packages (from ipyleaflet->bassmap) (8.0.4)\n",
      "Requirement already satisfied: traittypes<3,>=0.2.1 in c:\\users\\bassn\\miniconda3\\envs\\geos\\lib\\site-packages (from ipyleaflet->bassmap) (0.2.1)\n",
      "Requirement already satisfied: xyzservices>=2021.8.1 in c:\\users\\bassn\\miniconda3\\envs\\geos\\lib\\site-packages (from ipyleaflet->bassmap) (2022.9.0)\n",
      "Requirement already satisfied: colour in c:\\users\\bassn\\miniconda3\\envs\\geos\\lib\\site-packages (from leafmap->bassmap) (0.1.5)\n",
      "Requirement already satisfied: pyshp>=2.1.3 in c:\\users\\bassn\\miniconda3\\envs\\geos\\lib\\site-packages (from leafmap->bassmap) (2.3.1)\n",
      "Requirement already satisfied: gdown in c:\\users\\bassn\\miniconda3\\envs\\geos\\lib\\site-packages (from leafmap->bassmap) (4.6.0)\n",
      "Requirement already satisfied: scooby in c:\\users\\bassn\\miniconda3\\envs\\geos\\lib\\site-packages (from leafmap->bassmap) (0.7.1)\n",
      "Requirement already satisfied: python-box in c:\\users\\bassn\\miniconda3\\envs\\geos\\lib\\site-packages (from leafmap->bassmap) (6.1.0)\n",
      "Requirement already satisfied: ipyfilechooser>=0.6.0 in c:\\users\\bassn\\miniconda3\\envs\\geos\\lib\\site-packages (from leafmap->bassmap) (0.6.0)\n",
      "Requirement already satisfied: bqplot in c:\\users\\bassn\\miniconda3\\envs\\geos\\lib\\site-packages (from leafmap->bassmap) (0.12.36)\n",
      "Requirement already satisfied: whiteboxgui>=0.6.0 in c:\\users\\bassn\\miniconda3\\envs\\geos\\lib\\site-packages (from leafmap->bassmap) (2.2.0)\n",
      "Requirement already satisfied: geojson in c:\\users\\bassn\\miniconda3\\envs\\geos\\lib\\site-packages (from leafmap->bassmap) (2.5.0)\n",
      "Requirement already satisfied: pystac-client in c:\\users\\bassn\\miniconda3\\envs\\geos\\lib\\site-packages (from leafmap->bassmap) (0.5.1)\n",
      "Requirement already satisfied: ipyevents in c:\\users\\bassn\\miniconda3\\envs\\geos\\lib\\site-packages (from leafmap->bassmap) (2.0.1)\n",
      "Requirement already satisfied: python-dateutil>=2.7 in c:\\users\\bassn\\miniconda3\\envs\\geos\\lib\\site-packages (from matplotlib->bassmap) (2.8.2)\n",
      "Requirement already satisfied: pillow>=6.2.0 in c:\\users\\bassn\\miniconda3\\envs\\geos\\lib\\site-packages (from matplotlib->bassmap) (9.4.0)\n",
      "Requirement already satisfied: fonttools>=4.22.0 in c:\\users\\bassn\\miniconda3\\envs\\geos\\lib\\site-packages (from matplotlib->bassmap) (4.38.0)\n",
      "Requirement already satisfied: cycler>=0.10 in c:\\users\\bassn\\miniconda3\\envs\\geos\\lib\\site-packages (from matplotlib->bassmap) (0.11.0)\n",
      "Requirement already satisfied: pyparsing>=2.2.1 in c:\\users\\bassn\\miniconda3\\envs\\geos\\lib\\site-packages (from matplotlib->bassmap) (3.0.9)\n",
      "Requirement already satisfied: kiwisolver>=1.0.1 in c:\\users\\bassn\\miniconda3\\envs\\geos\\lib\\site-packages (from matplotlib->bassmap) (1.4.4)\n",
      "Requirement already satisfied: contourpy>=1.0.1 in c:\\users\\bassn\\miniconda3\\envs\\geos\\lib\\site-packages (from matplotlib->bassmap) (1.0.7)\n",
      "Requirement already satisfied: cligj>=0.5 in c:\\users\\bassn\\miniconda3\\envs\\geos\\lib\\site-packages (from rasterio->bassmap) (0.7.2)\n",
      "Requirement already satisfied: setuptools in c:\\users\\bassn\\miniconda3\\envs\\geos\\lib\\site-packages (from rasterio->bassmap) (65.6.3)\n",
      "Requirement already satisfied: click-plugins in c:\\users\\bassn\\miniconda3\\envs\\geos\\lib\\site-packages (from rasterio->bassmap) (1.1.1)\n",
      "Requirement already satisfied: attrs in c:\\users\\bassn\\miniconda3\\envs\\geos\\lib\\site-packages (from rasterio->bassmap) (22.2.0)\n",
      "Requirement already satisfied: snuggs>=1.4.1 in c:\\users\\bassn\\miniconda3\\envs\\geos\\lib\\site-packages (from rasterio->bassmap) (1.4.7)\n",
      "Requirement already satisfied: affine in c:\\users\\bassn\\miniconda3\\envs\\geos\\lib\\site-packages (from rasterio->bassmap) (2.4.0)\n",
      "Requirement already satisfied: click>=4.0 in c:\\users\\bassn\\miniconda3\\envs\\geos\\lib\\site-packages (from rasterio->bassmap) (8.1.3)\n",
      "Requirement already satisfied: urllib3<1.27,>=1.21.1 in c:\\users\\bassn\\miniconda3\\envs\\geos\\lib\\site-packages (from requests->bassmap) (1.26.14)\n",
      "Requirement already satisfied: charset-normalizer<4,>=2 in c:\\users\\bassn\\miniconda3\\envs\\geos\\lib\\site-packages (from requests->bassmap) (2.1.1)\n",
      "Requirement already satisfied: colorama in c:\\users\\bassn\\miniconda3\\envs\\geos\\lib\\site-packages (from click>=4.0->rasterio->bassmap) (0.4.6)\n",
      "Requirement already satisfied: importlib-metadata in c:\\users\\bassn\\miniconda3\\envs\\geos\\lib\\site-packages (from fiona>=1.8->geopandas->bassmap) (6.0.0)\n",
      "Requirement already satisfied: munch>=2.3.2 in c:\\users\\bassn\\miniconda3\\envs\\geos\\lib\\site-packages (from fiona>=1.8->geopandas->bassmap) (2.5.0)\n",
      "Requirement already satisfied: anyio<5.0,>=3.0 in c:\\users\\bassn\\miniconda3\\envs\\geos\\lib\\site-packages (from httpcore<0.18.0,>=0.15.0->httpx->bassmap) (3.6.2)\n",
      "Requirement already satisfied: h11<0.15,>=0.13 in c:\\users\\bassn\\miniconda3\\envs\\geos\\lib\\site-packages (from httpcore<0.18.0,>=0.15.0->httpx->bassmap) (0.14.0)\n",
      "Requirement already satisfied: traitlets>=4.3.1 in c:\\users\\bassn\\miniconda3\\envs\\geos\\lib\\site-packages (from ipywidgets<9,>=7.6.0->ipyleaflet->bassmap) (5.9.0)\n",
      "Requirement already satisfied: ipykernel>=4.5.1 in c:\\users\\bassn\\miniconda3\\envs\\geos\\lib\\site-packages (from ipywidgets<9,>=7.6.0->ipyleaflet->bassmap) (6.21.0)\n",
      "Requirement already satisfied: jupyterlab-widgets~=3.0 in c:\\users\\bassn\\miniconda3\\envs\\geos\\lib\\site-packages (from ipywidgets<9,>=7.6.0->ipyleaflet->bassmap) (3.0.5)\n",
      "Requirement already satisfied: ipython>=6.1.0 in c:\\users\\bassn\\miniconda3\\envs\\geos\\lib\\site-packages (from ipywidgets<9,>=7.6.0->ipyleaflet->bassmap) (8.9.0)\n",
      "Requirement already satisfied: widgetsnbextension~=4.0 in c:\\users\\bassn\\miniconda3\\envs\\geos\\lib\\site-packages (from ipywidgets<9,>=7.6.0->ipyleaflet->bassmap) (4.0.5)\n",
      "Requirement already satisfied: MarkupSafe>=2.0 in c:\\users\\bassn\\miniconda3\\envs\\geos\\lib\\site-packages (from jinja2>=2.9->folium->bassmap) (2.1.2)\n",
      "Requirement already satisfied: pytz>=2020.1 in c:\\users\\bassn\\miniconda3\\envs\\geos\\lib\\site-packages (from pandas>=1.0.0->geopandas->bassmap) (2022.7.1)\n",
      "Requirement already satisfied: six>=1.5 in c:\\users\\bassn\\miniconda3\\envs\\geos\\lib\\site-packages (from python-dateutil>=2.7->matplotlib->bassmap) (1.16.0)\n",
      "Requirement already satisfied: ipytree in c:\\users\\bassn\\miniconda3\\envs\\geos\\lib\\site-packages (from whiteboxgui>=0.6.0->leafmap->bassmap) (0.2.2)\n",
      "Requirement already satisfied: whitebox in c:\\users\\bassn\\miniconda3\\envs\\geos\\lib\\site-packages (from whiteboxgui>=0.6.0->leafmap->bassmap) (2.2.0)\n",
      "Requirement already satisfied: beautifulsoup4 in c:\\users\\bassn\\miniconda3\\envs\\geos\\lib\\site-packages (from gdown->leafmap->bassmap) (4.11.1)\n",
      "Requirement already satisfied: filelock in c:\\users\\bassn\\miniconda3\\envs\\geos\\lib\\site-packages (from gdown->leafmap->bassmap) (3.9.0)\n",
      "Requirement already satisfied: tqdm in c:\\users\\bassn\\miniconda3\\envs\\geos\\lib\\site-packages (from gdown->leafmap->bassmap) (4.64.1)\n",
      "Requirement already satisfied: pystac>=1.4.0 in c:\\users\\bassn\\miniconda3\\envs\\geos\\lib\\site-packages (from pystac-client->leafmap->bassmap) (1.6.1)\n",
      "Requirement already satisfied: debugpy>=1.6.5 in c:\\users\\bassn\\miniconda3\\envs\\geos\\lib\\site-packages (from ipykernel>=4.5.1->ipywidgets<9,>=7.6.0->ipyleaflet->bassmap) (1.6.6)\n",
      "Requirement already satisfied: pyzmq>=17 in c:\\users\\bassn\\miniconda3\\envs\\geos\\lib\\site-packages (from ipykernel>=4.5.1->ipywidgets<9,>=7.6.0->ipyleaflet->bassmap) (25.0.0)\n",
      "Requirement already satisfied: comm>=0.1.1 in c:\\users\\bassn\\miniconda3\\envs\\geos\\lib\\site-packages (from ipykernel>=4.5.1->ipywidgets<9,>=7.6.0->ipyleaflet->bassmap) (0.1.2)\n",
      "Requirement already satisfied: jupyter-core!=5.0.*,>=4.12 in c:\\users\\bassn\\miniconda3\\envs\\geos\\lib\\site-packages (from ipykernel>=4.5.1->ipywidgets<9,>=7.6.0->ipyleaflet->bassmap) (5.2.0)\n",
      "Requirement already satisfied: psutil in c:\\users\\bassn\\miniconda3\\envs\\geos\\lib\\site-packages (from ipykernel>=4.5.1->ipywidgets<9,>=7.6.0->ipyleaflet->bassmap) (5.9.4)\n",
      "Requirement already satisfied: tornado>=6.1 in c:\\users\\bassn\\miniconda3\\envs\\geos\\lib\\site-packages (from ipykernel>=4.5.1->ipywidgets<9,>=7.6.0->ipyleaflet->bassmap) (6.2)\n",
      "Requirement already satisfied: matplotlib-inline>=0.1 in c:\\users\\bassn\\miniconda3\\envs\\geos\\lib\\site-packages (from ipykernel>=4.5.1->ipywidgets<9,>=7.6.0->ipyleaflet->bassmap) (0.1.6)\n",
      "Requirement already satisfied: jupyter-client>=6.1.12 in c:\\users\\bassn\\miniconda3\\envs\\geos\\lib\\site-packages (from ipykernel>=4.5.1->ipywidgets<9,>=7.6.0->ipyleaflet->bassmap) (8.0.2)\n",
      "Requirement already satisfied: pickleshare in c:\\users\\bassn\\miniconda3\\envs\\geos\\lib\\site-packages (from ipython>=6.1.0->ipywidgets<9,>=7.6.0->ipyleaflet->bassmap) (0.7.5)\n",
      "Requirement already satisfied: pygments>=2.4.0 in c:\\users\\bassn\\miniconda3\\envs\\geos\\lib\\site-packages (from ipython>=6.1.0->ipywidgets<9,>=7.6.0->ipyleaflet->bassmap) (2.14.0)\n",
      "Requirement already satisfied: decorator in c:\\users\\bassn\\miniconda3\\envs\\geos\\lib\\site-packages (from ipython>=6.1.0->ipywidgets<9,>=7.6.0->ipyleaflet->bassmap) (5.1.1)\n",
      "Requirement already satisfied: backcall in c:\\users\\bassn\\miniconda3\\envs\\geos\\lib\\site-packages (from ipython>=6.1.0->ipywidgets<9,>=7.6.0->ipyleaflet->bassmap) (0.2.0)\n",
      "Requirement already satisfied: stack-data in c:\\users\\bassn\\miniconda3\\envs\\geos\\lib\\site-packages (from ipython>=6.1.0->ipywidgets<9,>=7.6.0->ipyleaflet->bassmap) (0.6.2)\n",
      "Requirement already satisfied: jedi>=0.16 in c:\\users\\bassn\\miniconda3\\envs\\geos\\lib\\site-packages (from ipython>=6.1.0->ipywidgets<9,>=7.6.0->ipyleaflet->bassmap) (0.18.2)\n",
      "Requirement already satisfied: prompt-toolkit<3.1.0,>=3.0.30 in c:\\users\\bassn\\miniconda3\\envs\\geos\\lib\\site-packages (from ipython>=6.1.0->ipywidgets<9,>=7.6.0->ipyleaflet->bassmap) (3.0.36)\n",
      "Requirement already satisfied: soupsieve>1.2 in c:\\users\\bassn\\miniconda3\\envs\\geos\\lib\\site-packages (from beautifulsoup4->gdown->leafmap->bassmap) (2.3.2.post1)\n",
      "Requirement already satisfied: zipp>=0.5 in c:\\users\\bassn\\miniconda3\\envs\\geos\\lib\\site-packages (from importlib-metadata->fiona>=1.8->geopandas->bassmap) (3.12.0)\n",
      "Requirement already satisfied: PySocks!=1.5.7,>=1.5.6 in c:\\users\\bassn\\miniconda3\\envs\\geos\\lib\\site-packages (from requests->bassmap) (1.7.1)\n",
      "Requirement already satisfied: parso<0.9.0,>=0.8.0 in c:\\users\\bassn\\miniconda3\\envs\\geos\\lib\\site-packages (from jedi>=0.16->ipython>=6.1.0->ipywidgets<9,>=7.6.0->ipyleaflet->bassmap) (0.8.3)\n",
      "Requirement already satisfied: pywin32>=1.0 in c:\\users\\bassn\\miniconda3\\envs\\geos\\lib\\site-packages (from jupyter-core!=5.0.*,>=4.12->ipykernel>=4.5.1->ipywidgets<9,>=7.6.0->ipyleaflet->bassmap) (304)\n",
      "Requirement already satisfied: platformdirs>=2.5 in c:\\users\\bassn\\miniconda3\\envs\\geos\\lib\\site-packages (from jupyter-core!=5.0.*,>=4.12->ipykernel>=4.5.1->ipywidgets<9,>=7.6.0->ipyleaflet->bassmap) (2.6.2)\n",
      "Requirement already satisfied: wcwidth in c:\\users\\bassn\\miniconda3\\envs\\geos\\lib\\site-packages (from prompt-toolkit<3.1.0,>=3.0.30->ipython>=6.1.0->ipywidgets<9,>=7.6.0->ipyleaflet->bassmap) (0.2.6)\n",
      "Requirement already satisfied: executing>=1.2.0 in c:\\users\\bassn\\miniconda3\\envs\\geos\\lib\\site-packages (from stack-data->ipython>=6.1.0->ipywidgets<9,>=7.6.0->ipyleaflet->bassmap) (1.2.0)\n",
      "Requirement already satisfied: pure-eval in c:\\users\\bassn\\miniconda3\\envs\\geos\\lib\\site-packages (from stack-data->ipython>=6.1.0->ipywidgets<9,>=7.6.0->ipyleaflet->bassmap) (0.2.2)\n",
      "Requirement already satisfied: asttokens>=2.1.0 in c:\\users\\bassn\\miniconda3\\envs\\geos\\lib\\site-packages (from stack-data->ipython>=6.1.0->ipywidgets<9,>=7.6.0->ipyleaflet->bassmap) (2.2.1)\n",
      "Note: you may need to restart the kernel to use updated packages.\n"
     ]
    }
   ],
   "source": [
    "pip install bassmap"
   ]
  },
  {
   "cell_type": "code",
   "execution_count": 3,
   "metadata": {},
   "outputs": [],
   "source": [
    "import bassmap"
   ]
  },
  {
   "cell_type": "code",
   "execution_count": 4,
   "metadata": {},
   "outputs": [],
   "source": [
    "from bassmap import Mapomatic"
   ]
  },
  {
   "cell_type": "code",
   "execution_count": 5,
   "metadata": {},
   "outputs": [
    {
     "data": {
      "application/vnd.jupyter.widget-view+json": {
       "model_id": "a0fc1c5b421b45f69ef97bb1d694dd53",
       "version_major": 2,
       "version_minor": 0
      },
      "text/plain": [
       "Mapomatic(center=[0, 0], controls=(ZoomControl(options=['position', 'zoom_in_text', 'zoom_in_title', 'zoom_out…"
      ]
     },
     "execution_count": 5,
     "metadata": {},
     "output_type": "execute_result"
    }
   ],
   "source": [
    "url = 'https://raw.githubusercontent.com/bassneel/basspublicfiles/main/world_countries.zip'\n",
    "m = Mapomatic(center=[0, 0], zoom=2)\n",
    "m.add_shp(url)\n",
    "m"
   ]
  },
  {
   "cell_type": "code",
   "execution_count": 6,
   "metadata": {},
   "outputs": [
    {
     "data": {
      "application/vnd.jupyter.widget-view+json": {
       "model_id": "2d456196b09f4087a086f53521486531",
       "version_major": 2,
       "version_minor": 0
      },
      "text/plain": [
       "Mapomatic(center=[0, 0], controls=(ZoomControl(options=['position', 'zoom_in_text', 'zoom_in_title', 'zoom_out…"
      ]
     },
     "execution_count": 6,
     "metadata": {},
     "output_type": "execute_result"
    }
   ],
   "source": [
    "url = 'https://raw.githubusercontent.com/bassneel/basspublicfiles/main/World_Countries_(Generalized).geojson'\n",
    "m = Mapomatic(center=[0, 0], zoom=2)\n",
    "m.add_geojson(url)\n",
    "m"
   ]
  },
  {
   "cell_type": "code",
   "execution_count": 7,
   "metadata": {},
   "outputs": [
    {
     "data": {
      "application/vnd.jupyter.widget-view+json": {
       "model_id": "f35377ec3987482a8bb18cbcbb74ac68",
       "version_major": 2,
       "version_minor": 0
      },
      "text/plain": [
       "Mapomatic(center=[0, 0], controls=(ZoomControl(options=['position', 'zoom_in_text', 'zoom_in_title', 'zoom_out…"
      ]
     },
     "execution_count": 7,
     "metadata": {},
     "output_type": "execute_result"
    }
   ],
   "source": [
    "url = 'https://raw.githubusercontent.com/bassneel/basspublicfiles/main/World_Countries_(Generalized).geojson'\n",
    "m = Mapomatic(center=[0, 0], zoom=2)\n",
    "m.add_vector(url)\n",
    "m"
   ]
  },
  {
   "cell_type": "code",
   "execution_count": 8,
   "metadata": {},
   "outputs": [
    {
     "data": {
      "application/vnd.jupyter.widget-view+json": {
       "model_id": "07e1167e48e64d91b1ebd7aa09017fc1",
       "version_major": 2,
       "version_minor": 0
      },
      "text/plain": [
       "Mapomatic(center=[0, 0], controls=(ZoomControl(options=['position', 'zoom_in_text', 'zoom_in_title', 'zoom_out…"
      ]
     },
     "execution_count": 8,
     "metadata": {},
     "output_type": "execute_result"
    }
   ],
   "source": [
    "m = Mapomatic(center=[0, 0], zoom=2)\n",
    "m.add_basemap('OpenTopoMap', 'https://{s}.tile.opentopomap.org/{z}/{x}/{y}.png')\n",
    "m"
   ]
  },
  {
   "cell_type": "code",
   "execution_count": 10,
   "metadata": {},
   "outputs": [
    {
     "data": {
      "application/vnd.jupyter.widget-view+json": {
       "model_id": "8a03ed7e896b462ba5be7163964dcdfd",
       "version_major": 2,
       "version_minor": 0
      },
      "text/plain": [
       "Mapomatic(center=[0, 0], controls=(ZoomControl(options=['position', 'zoom_in_text', 'zoom_in_title', 'zoom_out…"
      ]
     },
     "execution_count": 10,
     "metadata": {},
     "output_type": "execute_result"
    }
   ],
   "source": [
    "m = Mapomatic(center=(0, 0), zoom=2)\n",
    "url = 'https://raw.githubusercontent.com/bassneel/basspublicfiles/main/bassmap_logo.png'\n",
    "position = (0, 0)\n",
    "size = (100, 100)\n",
    "m.add_image(url, position, size, opacity=0.7, layer_name='My Logo')\n",
    "m"
   ]
  },
  {
   "cell_type": "code",
   "execution_count": 16,
   "metadata": {},
   "outputs": [
    {
     "data": {
      "application/vnd.jupyter.widget-view+json": {
       "model_id": "2797b10e2e794fbb81894f7be473833f",
       "version_major": 2,
       "version_minor": 0
      },
      "text/plain": [
       "Mapomatic(center=[0, 0], controls=(ZoomControl(options=['position', 'zoom_in_text', 'zoom_in_title', 'zoom_out…"
      ]
     },
     "execution_count": 16,
     "metadata": {},
     "output_type": "execute_result"
    }
   ],
   "source": [
    "m = Mapomatic(center=(0, 0), zoom=2)\n",
    "url = 'https://raw.githubusercontent.com/bassneel/basspublicfiles/main/earth_satellite_COG.tif'\n",
    "m.add_raster(url, cmap='terrain', opacity=0.7, layer_name='My COG')\n",
    "m"
   ]
  }
 ],
 "metadata": {
  "kernelspec": {
   "display_name": "geos",
   "language": "python",
   "name": "python3"
  },
  "language_info": {
   "codemirror_mode": {
    "name": "ipython",
    "version": 3
   },
   "file_extension": ".py",
   "mimetype": "text/x-python",
   "name": "python",
   "nbconvert_exporter": "python",
   "pygments_lexer": "ipython3",
   "version": "3.9.15"
  },
  "orig_nbformat": 4
 },
 "nbformat": 4,
 "nbformat_minor": 2
}
